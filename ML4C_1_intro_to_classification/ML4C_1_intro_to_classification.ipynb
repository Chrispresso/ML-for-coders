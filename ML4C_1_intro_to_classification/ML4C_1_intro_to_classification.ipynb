{
 "cells": [
  {
   "cell_type": "markdown",
   "id": "94667422",
   "metadata": {},
   "source": [
    "# Machine Learning for Coders\n",
    "\n",
    "This set of tutorials will serve as an introduction to machine learning for coders. There will not be much talk in terms of math, except for when necessary. Machine learning has gotten extremely popular over the past decade. Most large scale companies have machine learning engineers or data scientists to help make business decisions. These tutorials are not meant to get you to the level of them, but rather introduce you to the field. By following these tutorials you will gain hands-on experience with building, developing, training, and testing models. You will gain an understanding for data cleaning, when to apply it, and how. You will learn about the three areas that most machine learning can be categorized to: supervised, unsupervised, and reinforcement learning. I will introduce them in that order and may circle back when necessary. Since I won't be discussing mathematical reasoning, I will link to tutorials or other online material in case you'd like to further your understanding.\n",
    "\n",
    "These tutorials will build upon each other so you may want to go through them in order. I will place `# $MODIFY ` comments at areas where you can modify values. These values are meant to be modified once you've gone through the tutorial once. I'll list out a set of tasks at the end of each tutorial with instructions on what to try and what to look for. Then, circle back to see how changing values effects the code.\n",
    "\n",
    "All code will be in Python 3.x. If you don't already have that, go ahead and install Python 3.7 or newer. There are three main frameworks we could use: PyTorch, TensorFlow, or JAX. TensorFlow was what everyone used for a long time. TensorFlow 1.x was hard to work with but well tuned. TensorFlow 2.x came about and was meant to be easier to work with. There were a number of bugs and upgrading code from the old to the new version was difficult. JAX came along because of this (released by Google) and addresses many of the issues with TensorFlow. PyTorch is generally thought of as a researcher tool, but it can also be used for production. I'll be using PyTorch in these tutorials. Most current state of the art (sota) models are developed using PyTorch. I find it easier to work with, easy to set up, and easy to debug. "
   ]
  },
  {
   "cell_type": "markdown",
   "id": "49f6df53",
   "metadata": {},
   "source": [
    "## Supervised Learning\n",
    "Let's start by discussing supervised learning. This type of learning relies on labeled data. This label might be binary (0 or 1), categorical (\"cat\", \"dog\", \"potato\"), real (1.23, 3.1415926...), or really anything. The main point here is that you have something you use to label your data.\n",
    "\n",
    "So what's your data? Well... technically numbers. Computers don't just know language or images. All of these get converted to numbers at some point. But the data is composed of features. These features might be known (number of bathrooms in a house, sq ft, number of bedrooms), or learned (computer vision and natural language processing both tend to learn features about their data)."
   ]
  },
  {
   "cell_type": "markdown",
   "id": "71ea0fe0",
   "metadata": {},
   "source": [
    "### Half Moon\n",
    "This tutorial will focus on a half-moon dataset. This type of dataset consists of two half-moon type structures which you will see shortly. There will be two features: x-position and y-position and a binary label representing which class it belongs to.\n"
   ]
  },
  {
   "cell_type": "code",
   "execution_count": null,
   "id": "b49967ad",
   "metadata": {},
   "outputs": [],
   "source": [
    "# This cell is meant to install dependencies within google colab\n",
    "def _install_deps():\n",
    "    try:\n",
    "        if 'google.colab' in str(get_ipython()):\n",
    "            print('Installing dependencies within Google Colab...')\n",
    "            !wget https://github.com/Chrispresso/ML-for-coders/blob/main/requirements.txt?raw=True -O requirements.txt\n",
    "            !python -m pip install -r requirements.txt\n",
    "    except:\n",
    "        pass\n",
    "\n",
    "try:\n",
    "    if __cell_install_requirements:\n",
    "        _install_deps()\n",
    "    else:\n",
    "        pass\n",
    "except:\n",
    "    _install_deps()\n",
    "\n",
    "__cell_install_requirements = False"
   ]
  },
  {
   "cell_type": "code",
   "execution_count": 1,
   "id": "4c9ba170",
   "metadata": {},
   "outputs": [
    {
     "name": "stdout",
     "output_type": "stream",
     "text": [
      "/bin/bash: /opt/anaconda/v3/lib/libtinfo.so.6: no version information available (required by /bin/bash)\n",
      "Collecting package metadata (current_repodata.json): done\n",
      "Solving environment: done\n",
      "\n",
      "# All requested packages already installed.\n",
      "\n",
      "Retrieving notices: ...working... done\n",
      "/bin/bash: /opt/anaconda/v3/lib/libtinfo.so.6: no version information available (required by /bin/bash)\n",
      "Collecting package metadata (current_repodata.json): done\n",
      "Solving environment: done\n",
      "\n",
      "# All requested packages already installed.\n",
      "\n",
      "Retrieving notices: ...working... done\n",
      "/bin/bash: /opt/anaconda/v3/lib/libtinfo.so.6: no version information available (required by /bin/bash)\n",
      "Collecting package metadata (current_repodata.json): done\n",
      "Solving environment: done\n",
      "\n",
      "## Package Plan ##\n",
      "\n",
      "  environment location: /opt/anaconda/v3/envs/py39\n",
      "\n",
      "  added / updated specs:\n",
      "    - pytorch-lightning==1.7.6\n",
      "\n",
      "\n",
      "The following packages will be DOWNGRADED:\n",
      "\n",
      "  pytorch-lightning                      1.7.7-pyhd8ed1ab_0 --> 1.7.6-pyhd8ed1ab_0\n",
      "\n",
      "\n",
      "Preparing transaction: done\n",
      "Verifying transaction: done\n",
      "Executing transaction: done\n",
      "Retrieving notices: ...working... done\n",
      "/bin/bash: /opt/anaconda/v3/lib/libtinfo.so.6: no version information available (required by /bin/bash)\n",
      "Collecting package metadata (current_repodata.json): done\n",
      "Solving environment: done\n",
      "\n",
      "# All requested packages already installed.\n",
      "\n",
      "Retrieving notices: ...working... done\n",
      "/bin/bash: /opt/anaconda/v3/lib/libtinfo.so.6: no version information available (required by /bin/bash)\n",
      "Collecting package metadata (current_repodata.json): done\n",
      "Solving environment: done\n",
      "\n",
      "# All requested packages already installed.\n",
      "\n",
      "Retrieving notices: ...working... done\n"
     ]
    },
    {
     "name": "stderr",
     "output_type": "stream",
     "text": [
      "/opt/anaconda/v3/envs/py39/lib/python3.9/site-packages/torchvision/io/image.py:13: UserWarning: Failed to load image Python extension: /mnt/zpool/SATA3500GB_12RAIDZ3_Pool/INTEL/LABS/opt/anaconda/v3/envs/py39/lib/python3.9/site-packages/torchvision/image.so: undefined symbol: _ZN5torch3jit17parseSchemaOrNameERKSs\n",
      "  warn(f\"Failed to load image Python extension: {e}\")\n"
     ]
    }
   ],
   "source": [
    "\n",
    "import torch\n",
    "from torch.utils.tensorboard import SummaryWriter\n",
    "import pytorch_lightning as pl\n",
    "import imageio\n",
    "from IPython import display\n",
    "# \"%\" are \"magic\" operators in Jupyter Notebooks. I use load_ext to allow this to load into the notebook\n",
    "%load_ext tensorboard"
   ]
  },
  {
   "cell_type": "code",
   "execution_count": 2,
   "id": "cf371778",
   "metadata": {},
   "outputs": [
    {
     "name": "stdout",
     "output_type": "stream",
     "text": [
      "1.12.1.post200\n",
      "1.7.6\n"
     ]
    }
   ],
   "source": [
    "print(torch.__version__)\n",
    "print(pl.__version__)"
   ]
  },
  {
   "cell_type": "markdown",
   "id": "508bea00",
   "metadata": {},
   "source": [
    "### Graphs\n",
    "Since this tutorial is meant for coders, I assume you know about graph structures and won't discuss them much. I will however quickly mention that machine learning frameworks (TensorFlow included) rely on graphs to help know when operations are done so that the gradients can flow backwards (backpropagation) to help update the weights. The weights are key components to machine learning models and are what ultimately determines if something will be classified as one class or another. These weights are learned in model training but the discussion of backpropagation is beyond the scope of this tutorial. For a good intro you can watch [this](https://www.youtube.com/watch?v=Ilg3gGewQ5U)  video by 3B1B."
   ]
  },
  {
   "cell_type": "markdown",
   "id": "b6b611ad",
   "metadata": {},
   "source": [
    "Let's start by seeing how you can use PyTorch to take a derivative of $$3x^{2} + 4x + 5$$ at `x=2`"
   ]
  },
  {
   "cell_type": "code",
   "execution_count": 3,
   "id": "0579a209",
   "metadata": {},
   "outputs": [
    {
     "data": {
      "text/plain": [
       "tensor(2., requires_grad=True)"
      ]
     },
     "execution_count": 3,
     "metadata": {},
     "output_type": "execute_result"
    }
   ],
   "source": [
    "x = torch.tensor(2.0, requires_grad=True)\n",
    "x"
   ]
  },
  {
   "cell_type": "code",
   "execution_count": 4,
   "id": "70bc4043",
   "metadata": {},
   "outputs": [
    {
     "data": {
      "text/plain": [
       "tensor(25., grad_fn=<AddBackward0>)"
      ]
     },
     "execution_count": 4,
     "metadata": {},
     "output_type": "execute_result"
    }
   ],
   "source": [
    "y = 3*x**2 + 4*x + 5\n",
    "y"
   ]
  },
  {
   "cell_type": "markdown",
   "id": "65cb484b",
   "metadata": {},
   "source": [
    "Manually compute the derivative and plug in at `x=2`. This is purely Python and not relying on PyTorch."
   ]
  },
  {
   "cell_type": "code",
   "execution_count": 5,
   "id": "2b516fd3",
   "metadata": {},
   "outputs": [
    {
     "data": {
      "text/plain": [
       "16.0"
      ]
     },
     "execution_count": 5,
     "metadata": {},
     "output_type": "execute_result"
    }
   ],
   "source": [
    "dy_dx = lambda x: 6*x + 4\n",
    "dy_dx(2.0)"
   ]
  },
  {
   "cell_type": "markdown",
   "id": "8bb5d58b",
   "metadata": {},
   "source": [
    "Now instead let's use PyTorch to take the derivative. We do this by calling `.backward()`. In this case we go backwards through the graph of `y` and then look at the gradient at `x`."
   ]
  },
  {
   "cell_type": "code",
   "execution_count": 6,
   "id": "bd5f0c3e",
   "metadata": {},
   "outputs": [
    {
     "data": {
      "text/plain": [
       "tensor(16.)"
      ]
     },
     "execution_count": 6,
     "metadata": {},
     "output_type": "execute_result"
    }
   ],
   "source": [
    "y.backward()\n",
    "x.grad"
   ]
  },
  {
   "cell_type": "markdown",
   "id": "ea6804b8",
   "metadata": {},
   "source": [
    "It might seem silly to use PyTorch for that, but in order to train a neural network we'll need to minimize a loss function. A good way to minimize something is to take a derivative and set it equal to zero and solve. We're not going to be able to solve for an absolute minimum but by taking small steps in the direction of the largest gradient, we'll be able to slowly make our way to the minimum. This is the basis of gradient descent, which is one of the original ways to train a neural network.\n",
    "\n",
    "Let's now get our dataset loaded."
   ]
  },
  {
   "cell_type": "code",
   "execution_count": 7,
   "id": "76e41437",
   "metadata": {},
   "outputs": [],
   "source": [
    "import matplotlib.pyplot as plt\n",
    "from sklearn import datasets\n",
    "plt.ioff()\n",
    "plt.style.use('seaborn')"
   ]
  },
  {
   "cell_type": "code",
   "execution_count": 8,
   "id": "8c52c27e",
   "metadata": {},
   "outputs": [
    {
     "name": "stdout",
     "output_type": "stream",
     "text": [
      "(1000, 2)\n",
      "(1000,)\n"
     ]
    }
   ],
   "source": [
    "sklearn_datasets = [datasets.make_circles, datasets.make_moons]\n",
    "# $MODIFY 1\n",
    "idx = 1\n",
    "assert idx < 2, \"idx must be 0 or 1\"\n",
    "sklearn_dataset = sklearn_datasets[idx]\n",
    "\n",
    "X, y = sklearn_dataset(n_samples=1000, shuffle=True, noise=0.1, random_state=0xC0FFEE)\n",
    "print(X.shape)\n",
    "print(y.shape)\n"
   ]
  },
  {
   "cell_type": "markdown",
   "id": "7dcdcb59",
   "metadata": {},
   "source": [
    "Look at the shape of `X`. Each row is an entry consisting of 2 features. Those features are what the model will be trained on. In this case those features are the (x,y) coordinate. Let's see what the classes are of a few of them. These will be stored in `y`."
   ]
  },
  {
   "cell_type": "code",
   "execution_count": 9,
   "id": "5679dbc1",
   "metadata": {},
   "outputs": [
    {
     "name": "stdout",
     "output_type": "stream",
     "text": [
      "[0 1 0 0 1]\n"
     ]
    }
   ],
   "source": [
    "print(y[:5])"
   ]
  },
  {
   "cell_type": "markdown",
   "id": "42ee6b3f",
   "metadata": {},
   "source": [
    "Now let's separate the data into their individual classes. This is only for viewing purposes."
   ]
  },
  {
   "cell_type": "code",
   "execution_count": 10,
   "id": "6fb2f782",
   "metadata": {},
   "outputs": [
    {
     "name": "stdout",
     "output_type": "stream",
     "text": [
      "(500, 2)\n",
      "(500, 2)\n"
     ]
    }
   ],
   "source": [
    "x0 = X[y==0]\n",
    "x1 = X[y==1]\n",
    "print(x0.shape)\n",
    "print(x1.shape)"
   ]
  },
  {
   "cell_type": "code",
   "execution_count": 11,
   "id": "30a5b9a0",
   "metadata": {},
   "outputs": [
    {
     "data": {
      "image/png": "[encoded data removed]",
      "text/plain": [
       "<Figure size 800x550 with 1 Axes>"
      ]
     },
     "metadata": {},
     "output_type": "display_data"
    }
   ],
   "source": [
    "plt.scatter(x0[:,0], x0[:,1])\n",
    "plt.scatter(x1[:,0], x1[:,1])\n",
    "plt.show()\n",
    "plt.close()"
   ]
  },
  {
   "cell_type": "markdown",
   "id": "f474a6a0",
   "metadata": {},
   "source": [
    "Neural networks are also refered to as \"non-linear function approximators\". Look at the data above and try to find a a straight line that would be able to separate the data. You might be able to get decent accuracy, but it's never going to be that good. Now, if I said you can place a polynomial down of degree=2, then maybe it gets better accuracy. The higher the degree the more you can precisely fit your data. There may exist some polynomial function that gets the highest accuracy for the above data. We don't know that function but we can try to approximate it. As the neural network trains, the weights are learned that cause it to take the shape of that function. Note that this doesn't have to be a polynomial.\n",
    "\n",
    "Let's create a simple neural network and see."
   ]
  },
  {
   "cell_type": "code",
   "execution_count": 12,
   "id": "a532663c",
   "metadata": {},
   "outputs": [],
   "source": [
    "import torch.nn as nn\n",
    "\n",
    "class Network(nn.Module):\n",
    "    def __init__(self, hidden_size):\n",
    "        super().__init__()\n",
    "        self.model = nn.Sequential(\n",
    "            nn.Linear(2, hidden_size),\n",
    "            nn.Sigmoid(),\n",
    "            nn.Linear(hidden_size, 1),\n",
    "            nn.Sigmoid()\n",
    "        )\n",
    "    \n",
    "    def forward(self, x):\n",
    "        return self.model(x)"
   ]
  },
  {
   "cell_type": "markdown",
   "id": "6573c90e",
   "metadata": {},
   "source": [
    "Let's make a neural network with one hidden layer of 4 units."
   ]
  },
  {
   "cell_type": "code",
   "execution_count": 13,
   "id": "85cc6d7b",
   "metadata": {},
   "outputs": [
    {
     "data": {
      "text/plain": [
       "tensor([[0.4865]], grad_fn=<SigmoidBackward0>)"
      ]
     },
     "execution_count": 13,
     "metadata": {},
     "output_type": "execute_result"
    }
   ],
   "source": [
    "torch.manual_seed(0xC0FFEE)  # For initial reproducibility\n",
    "net = Network(4)\n",
    "sample = torch.tensor([[1,1]]).float()\n",
    "sample.shape\n",
    "net(sample)"
   ]
  },
  {
   "cell_type": "markdown",
   "id": "a8ad8bf0",
   "metadata": {},
   "source": [
    "Let's see what the accuracy is of a randomly initialized network. "
   ]
  },
  {
   "cell_type": "code",
   "execution_count": 14,
   "id": "c21b78fd",
   "metadata": {},
   "outputs": [],
   "source": [
    "def accuracy(model, X, y_true):\n",
    "    # model.train(False) does a couple additional things that aren't needed in this case, but will be used in future\n",
    "    # tutorials, so I wanted to introduce it at least. The `with torch.no_grad()` is used to let PyTorch know it doesn't\n",
    "    # need to accumulate gradients since we won't be updating the weights\n",
    "    model.train(False)\n",
    "    with torch.no_grad():\n",
    "        X_tensor = torch.tensor(X).float()\n",
    "        y_pred = model(X_tensor)\n",
    "        y_pred = torch.round(y_pred).numpy()\n",
    "    \n",
    "    y_pred = y_pred.ravel()\n",
    "    acc = (y_pred == y_true).sum() / float(len(y_pred))\n",
    "    model.train(True)\n",
    "    \n",
    "    return acc"
   ]
  },
  {
   "cell_type": "code",
   "execution_count": 15,
   "id": "dbfb1648",
   "metadata": {},
   "outputs": [
    {
     "data": {
      "text/plain": [
       "0.6"
      ]
     },
     "execution_count": 15,
     "metadata": {},
     "output_type": "execute_result"
    }
   ],
   "source": [
    "accuracy(net, X, y)"
   ]
  },
  {
   "cell_type": "markdown",
   "id": "d4ebcac0",
   "metadata": {},
   "source": [
    "You can ignore the code below. It's used for showing decision bounadries."
   ]
  },
  {
   "cell_type": "code",
   "execution_count": 16,
   "id": "f44ab916",
   "metadata": {},
   "outputs": [],
   "source": [
    "from torch.autograd import Variable\n",
    "import numpy as np\n",
    "\n",
    "# Adapted from https://gist.github.com/erwan-simon/e3baef06a00bb9a39a6968acf78121ee\n",
    "def plot_decision_boundary(dataset, labels, model, steps=1000, color_map='Paired'):\n",
    "    color_map = plt.get_cmap(color_map)\n",
    "    # Define region of interest by data limits\n",
    "    xmin, xmax = dataset[:, 0].min() - 1, dataset[:, 0].max() + 1\n",
    "    ymin, ymax = dataset[:, 1].min() - 1, dataset[:, 1].max() + 1\n",
    "    steps = steps\n",
    "    x_span = np.linspace(xmin, xmax, steps)\n",
    "    y_span = np.linspace(ymin, ymax, steps)\n",
    "    xx, yy = np.meshgrid(x_span, y_span)\n",
    "\n",
    "    # Make predictions across region of interest\n",
    "    model.train(False)\n",
    "    with torch.no_grad():\n",
    "        labels_predicted = model(Variable(torch.from_numpy(np.c_[xx.ravel(), yy.ravel()]).float()))\n",
    "    model.train(True)\n",
    "\n",
    "    # Plot decision boundary in region of interest\n",
    "    labels_predicted = [0 if value < 0.5 else 1 for value in labels_predicted.detach().numpy()]\n",
    "    z = np.array(labels_predicted).reshape(xx.shape)\n",
    "    \n",
    "    fig, ax = plt.subplots()\n",
    "    ax.contourf(xx, yy, z, cmap=color_map, alpha=0.5)\n",
    "\n",
    "    # Get predicted labels on training data and plot\n",
    "    model.train(False)\n",
    "    with torch.no_grad():\n",
    "        train_labels_predicted = model(dataset)\n",
    "    model.train(True)\n",
    "    \n",
    "    ax.scatter(dataset[:, 0], dataset[:, 1], c=labels.reshape(labels.size()[0]), cmap=color_map, lw=0)\n",
    "    return fig, ax\n",
    "\n"
   ]
  },
  {
   "cell_type": "markdown",
   "id": "82f3f7e8",
   "metadata": {},
   "source": [
    "Let's take a look at the decision boundary of this network. You'll notice that it's pretty bad. That's because the weights have not been learned and the network is essentially placing a random function down to separate the data."
   ]
  },
  {
   "cell_type": "code",
   "execution_count": 17,
   "id": "f0a6bce8",
   "metadata": {},
   "outputs": [
    {
     "data": {
      "image/png": "[encoded data removed]",
      "text/plain": [
       "<Figure size 800x550 with 1 Axes>"
      ]
     },
     "metadata": {},
     "output_type": "display_data"
    }
   ],
   "source": [
    "fig, _ = plot_decision_boundary(torch.tensor(X).float(), torch.tensor(y).float(), net, steps=1000)\n",
    "plt.show()\n",
    "plt.close(fig)\n"
   ]
  },
  {
   "cell_type": "markdown",
   "id": "4120e3a2",
   "metadata": {},
   "source": [
    "In order to train our model we need a way to access the data. PyTorch offers a number of ways to access data. The first is to create a `Dataset` which will hold the data. You'll need to provide `__len__` and `__getitem__` functions for it to return the length of the data and the data at a specific index, respectively."
   ]
  },
  {
   "cell_type": "code",
   "execution_count": 18,
   "id": "c64b0275",
   "metadata": {},
   "outputs": [],
   "source": [
    "from torch.utils.data import DataLoader, Dataset\n",
    "\n",
    "class CustomDataset(Dataset):\n",
    "    def __init__(self, X, y):\n",
    "        self.X = torch.from_numpy(X).float()\n",
    "        self.y = torch.from_numpy(y).float()\n",
    "    \n",
    "    def __len__(self):\n",
    "        return self.X.size(0)\n",
    "    \n",
    "    def __getitem__(self, idx):\n",
    "        X = self.X[idx]\n",
    "        y = self.y[idx]\n",
    "        \n",
    "        return (X, y)"
   ]
  },
  {
   "cell_type": "code",
   "execution_count": 19,
   "id": "9792b497",
   "metadata": {},
   "outputs": [],
   "source": [
    "dataset = CustomDataset(X, y)"
   ]
  },
  {
   "cell_type": "markdown",
   "id": "a7393000",
   "metadata": {},
   "source": [
    "Below we can access a single data point. It's a tuple of tensors. The first item in the tuple is the (x, y) pair and the second item is the class the data point belongs to."
   ]
  },
  {
   "cell_type": "code",
   "execution_count": 20,
   "id": "eab63afd",
   "metadata": {},
   "outputs": [
    {
     "data": {
      "text/plain": [
       "(tensor([-0.1332,  1.1857]), tensor(0.))"
      ]
     },
     "execution_count": 20,
     "metadata": {},
     "output_type": "execute_result"
    }
   ],
   "source": [
    "dataset[0]"
   ]
  },
  {
   "cell_type": "markdown",
   "id": "03c942f7",
   "metadata": {},
   "source": [
    "Now we use a `DataLoader` to handle loading, batching and shuffling the data. Neural networks are really good at learning patterns. If you feed the data into the model the same way each time, the model might learn how it's getting fed in and not generalize well later on. In this case we're going to overfit our data on purpose, but it's good practice to always shuffle. Rather than training on all data at once, data is normally broken into \"mini batches\". These mini batches are subsets of the data. These subsets are needed because you're normally not going to be able to fit all data into memory at once to train on. It can also help improve training time and has some nice mathematical properties that we won't get into."
   ]
  },
  {
   "cell_type": "code",
   "execution_count": 21,
   "id": "ccee078a",
   "metadata": {},
   "outputs": [],
   "source": [
    "dataloder = DataLoader(dataset, batch_size=16, shuffle=True)"
   ]
  },
  {
   "cell_type": "code",
   "execution_count": 22,
   "id": "6faab370",
   "metadata": {},
   "outputs": [
    {
     "name": "stdout",
     "output_type": "stream",
     "text": [
      "torch.Size([16, 2])\n",
      "torch.Size([16])\n",
      "tensor([ 0.6289, -0.4102])\n"
     ]
    }
   ],
   "source": [
    "Xt, yt = next(iter(dataloder))\n",
    "print(Xt.shape)\n",
    "print(yt.shape)\n",
    "print(Xt[0])"
   ]
  },
  {
   "cell_type": "code",
   "execution_count": 23,
   "id": "bd90e5eb",
   "metadata": {},
   "outputs": [],
   "source": [
    "dataloder = DataLoader(dataset, batch_size=16, shuffle=True)"
   ]
  },
  {
   "cell_type": "markdown",
   "id": "d821daf8",
   "metadata": {},
   "source": [
    "Next we need to train the model. This is the most confusing part and the reason that some say TensorFlow/Keras is easier to start with. I want to introduce this though, because there are many times where you can't just call `model.fit()` in TensorFlow and have everything magically work. And really, most classification problems will follow the same format. That format is:\n",
    "\n",
    "1. Define a loss function\n",
    "2. Define an optimizer. This optimizer will update the model parameters (weights).\n",
    "3. Loop for a number of epochs and each epoch do:\n",
    "    - Iterate over the entire data in mini batches and each mini batch do:\n",
    "        - Have the model make a prediction\n",
    "        - Compare that prediction to the ground truth via the loss function\n",
    "        - Update the model via the optimizer\n",
    "        \n",
    "And that's basically it. Let's see this in code now!"
   ]
  },
  {
   "cell_type": "code",
   "execution_count": 24,
   "id": "fc16dfbe",
   "metadata": {},
   "outputs": [],
   "source": [
    "import torch.optim as optim\n",
    "from tqdm import tqdm\n",
    "from PIL import Image\n",
    "import io\n",
    "\n",
    "def train(epochs, opt, hidden_size, lr=1e-3, get_bounary_enery_n_epochs=20):\n",
    "    losses = []\n",
    "    accuracies = []\n",
    "    imgs = []\n",
    "    network = Network(hidden_size)\n",
    "    loss_func = nn.BCELoss()  # Define the loss function\n",
    "    # Define the optimizer. Notice here that we pass in the network.parameters(). These are the weights and bias'\n",
    "    # of the model, and what the optimizer will be updating.\n",
    "    optimizer = opt(network.parameters(), lr=lr)\n",
    "    \n",
    "    # Loop for a number of epochs\n",
    "    for epoch in tqdm(range(epochs)):\n",
    "        epoch_loss = 0.0\n",
    "        \n",
    "        # For each epoch, loop over all the data in mini batches\n",
    "        for idx, batch in enumerate(dataloder):\n",
    "            optimizer.zero_grad()\n",
    "            X_batch, y_true = batch  # Extract X, y pair\n",
    "            y_pred = network(X_batch)  # Have the model make a prediction\n",
    "            y_true = y_true.reshape(-1,1)  # Reshape just to get it into (n, 1) shape for y_true and y_pred\n",
    "            \n",
    "            # Calculate the loss\n",
    "            loss = loss_func(y_pred, y_true)\n",
    "            \n",
    "            # Perform loss.backward(). This is similar to what you've seen from the beginning. We're having the loss\n",
    "            # function in this case go backwards (backpropagation) and accumulate the gradients\n",
    "            loss.backward()\n",
    "            # We then use optimizer.step() to make a step on the accumulated gradients. This will update the model\n",
    "            optimizer.step()\n",
    "            \n",
    "            epoch_loss += loss.item()\n",
    "        \n",
    "        # Average over the number of batches we've looked at for the epoch\n",
    "        epoch_loss /= float(idx)\n",
    "        losses.append(epoch_loss)\n",
    "        \n",
    "        acc = accuracy(network, X, y)\n",
    "        accuracies.append(acc)\n",
    "        \n",
    "        if get_bounary_enery_n_epochs and ((epoch + 1) % get_bounary_enery_n_epochs == 0):\n",
    "            fig, ax = plot_decision_boundary(torch.tensor(X).float(), torch.tensor(y).float(), network, steps=1000)\n",
    "            buff = io.BytesIO()\n",
    "            fig.savefig(buff)\n",
    "            buff.seek(0)\n",
    "            img = Image.open(buff)\n",
    "            plt.close(fig)\n",
    "            imgs.append(img)\n",
    "    \n",
    "    return network, losses, accuracies, imgs\n",
    "    "
   ]
  },
  {
   "cell_type": "code",
   "execution_count": 25,
   "id": "0a5affed",
   "metadata": {},
   "outputs": [
    {
     "name": "stderr",
     "output_type": "stream",
     "text": [
      "100%|██████████████████████████████████████████████████████████████████| 1000/1000 [01:55<00:00,  8.64it/s]\n"
     ]
    }
   ],
   "source": [
    "optimizers = [optim.Adam, optim.SGD, optim.Adagrad]\n",
    "\n",
    "# $MODIFY 2\n",
    "opt_idx = 0\n",
    "assert opt_idx in range(len(optimizers)), f'opt_idx must be between [0, {len(optimizers)})'\n",
    "opt = optimizers[opt_idx]\n",
    "\n",
    "# $MODIFY 3\n",
    "lr = 1e-3\n",
    "\n",
    "# $MODIFY 4\n",
    "num_hidden_units = 32\n",
    "\n",
    "model, losses, accuracies, imgs = train(1000, opt, num_hidden_units, lr)"
   ]
  },
  {
   "cell_type": "code",
   "execution_count": 26,
   "id": "7a67056d",
   "metadata": {},
   "outputs": [
    {
     "data": {
      "text/plain": [
       "1.0"
      ]
     },
     "execution_count": 26,
     "metadata": {},
     "output_type": "execute_result"
    }
   ],
   "source": [
    "accuracy(model, X, y)"
   ]
  },
  {
   "cell_type": "code",
   "execution_count": 27,
   "id": "b8717c4b",
   "metadata": {},
   "outputs": [],
   "source": [
    "imgs[0].save('boundary.gif', save_all=True, append_images=imgs[1:], optimize=False, loops=0)"
   ]
  },
  {
   "cell_type": "markdown",
   "id": "05a7870f",
   "metadata": {},
   "source": [
    "Let's look at the accuracy and loss over each epoch. You should see accuracy going up before plateauing. You should also see a decrease in loss. Loss may start off slow, quickly decrease and then slow again."
   ]
  },
  {
   "cell_type": "code",
   "execution_count": 28,
   "id": "ff038413",
   "metadata": {},
   "outputs": [
    {
     "data": {
      "image/png": "[encoded data removed]",
      "text/plain": [
       "<Figure size 800x550 with 1 Axes>"
      ]
     },
     "metadata": {},
     "output_type": "display_data"
    }
   ],
   "source": [
    "r = list(range(len(accuracies)))\n",
    "plt.plot(r, accuracies, label='Accuracy')\n",
    "plt.plot(r, losses, label='Loss')\n",
    "plt.legend()\n",
    "plt.show()"
   ]
  },
  {
   "cell_type": "code",
   "execution_count": 29,
   "id": "bce75ca1",
   "metadata": {},
   "outputs": [
    {
     "name": "stderr",
     "output_type": "stream",
     "text": [
      "2022-09-26 09:44:19.090412: I tensorflow/core/util/util.cc:169] oneDNN custom operations are on. You may see slightly different numerical results due to floating-point round-off errors from different computation orders. To turn them off, set the environment variable `TF_ENABLE_ONEDNN_OPTS=0`.\n"
     ]
    }
   ],
   "source": [
    "summary = SummaryWriter()\n",
    "summary.add_graph(model,torch.from_numpy(X).float())\n",
    "summary.close()"
   ]
  },
  {
   "cell_type": "markdown",
   "id": "31e3918d",
   "metadata": {},
   "source": [
    "Run the below cell and play around with it. Double click on `Network` To zoom in. You can also use the scroll wheel to zoom in and out. Next, double click the `sequential` model. What you should see is the network that we defined above: a linear layer followed by a sigmoid activation into another linear layer and a final sigmoid activation. There isn't much exploration of the model or the data that is needed for this exercise but we will use it in the future so I wanted to introduce it now."
   ]
  },
  {
   "cell_type": "code",
   "execution_count": 30,
   "id": "6bf7e16e",
   "metadata": {},
   "outputs": [
    {
     "data": {
      "text/html": [
       "\n",
       "      <iframe id=\"tensorboard-frame-c589d5f71264f351\" width=\"100%\" height=\"800\" frameborder=\"0\">\n",
       "      </iframe>\n",
       "      <script>\n",
       "        (function() {\n",
       "          const frame = document.getElementById(\"tensorboard-frame-c589d5f71264f351\");\n",
       "          const url = new URL(\"/\", window.location);\n",
       "          const port = 6006;\n",
       "          if (port) {\n",
       "            url.port = port;\n",
       "          }\n",
       "          frame.src = url;\n",
       "        })();\n",
       "      </script>\n",
       "    "
      ],
      "text/plain": [
       "<IPython.core.display.HTML object>"
      ]
     },
     "metadata": {},
     "output_type": "display_data"
    }
   ],
   "source": [
    "%tensorboard --logdir=runs\n"
   ]
  },
  {
   "cell_type": "code",
   "execution_count": 37,
   "id": "36c61e18",
   "metadata": {},
   "outputs": [
    {
     "data": {
      "text/html": [
       "\n",
       "        <iframe\n",
       "            width=\"800\"\n",
       "            height=\"600\"\n",
       "            src=\"./boundary.gif\"\n",
       "            frameborder=\"0\"\n",
       "            allowfullscreen\n",
       "            \n",
       "        ></iframe>\n",
       "        "
      ],
      "text/plain": [
       "<IPython.lib.display.IFrame at 0x7f0db84f2670>"
      ]
     },
     "execution_count": 37,
     "metadata": {},
     "output_type": "execute_result"
    }
   ],
   "source": [
    "display.Image('./boundary.gif', width=800, height=600)"
   ]
  },
  {
   "cell_type": "markdown",
   "id": "3307dd95",
   "metadata": {},
   "source": [
    "### PyTorch Lightning\n",
    "\n",
    "So you've seen how to train a model and how to run it. You've seen how to load a custom dataset and put it into a `DataLoader` object. You've seen how to use a loss function along with an optimizer to help update the weights of the model and have it learn. Now, if you're new to machine learning or have used Keras before, you're probably thinking this is pretty confusing. You might say to yourself \"Chris, this is supposed to be the first ML for coders tutorial. Keras would be sooooo much easier\". And in a way you'd be right. For Keras you really can just do something like this:\n",
    "\n",
    "```python\n",
    "from tensorflow.keras.layers import Dense, Sequential\n",
    "model = Sequential([\n",
    "    Dense(2, activation=\"sigmoid\"),\n",
    "    Dense(16, activation=\"sigmoid\"),\n",
    "    Dense(1)\n",
    "])\n",
    "model.compile(optimizer=\"Adam\", loss=\"binary_crossentropy\", metrics=[\"acc\"])\n",
    "model.fit(X,y)\n",
    "```\n",
    "\n",
    "That's all you'd need to train the Keras model. There's a lot of hand wave magic that happens and further down the line we won't be able to rely on it. That being said, you can also do something similar with PyTorch Lightning. You don't always have to train models the way I showed above and so I quickly want to introduce PyTorch Lightning and how we can go about training a model without explicity calling the loss function or the optimizer."
   ]
  },
  {
   "cell_type": "code",
   "execution_count": 32,
   "id": "d36a2240",
   "metadata": {},
   "outputs": [],
   "source": [
    "import torch.nn.functional as F"
   ]
  },
  {
   "cell_type": "code",
   "execution_count": 33,
   "id": "031c238b",
   "metadata": {},
   "outputs": [],
   "source": [
    "class LitModel(pl.LightningModule):\n",
    "    def __init__(self, model):\n",
    "        super().__init__()\n",
    "        self.net = model\n",
    "    \n",
    "    def training_step(self, batch, batch_idx):\n",
    "        X, y = batch\n",
    "        y_pred = self.net(X).ravel()\n",
    "        loss = F.binary_cross_entropy(y_pred, y)\n",
    "        return loss\n",
    "\n",
    "    def configure_optimizers(self):\n",
    "        return torch.optim.Adam(self.parameters(), lr=1e-3)\n",
    "\n",
    "        "
   ]
  },
  {
   "cell_type": "markdown",
   "id": "8deab39a",
   "metadata": {},
   "source": [
    "Now let's instantiate the `LitModel` we defined above and train it"
   ]
  },
  {
   "cell_type": "code",
   "execution_count": 34,
   "id": "9761ac79",
   "metadata": {
    "scrolled": true
   },
   "outputs": [
    {
     "name": "stderr",
     "output_type": "stream",
     "text": [
      "GPU available: True (cuda), used: False\n",
      "TPU available: False, using: 0 TPU cores\n",
      "IPU available: False, using: 0 IPUs\n",
      "HPU available: False, using: 0 HPUs\n",
      "/opt/anaconda/v3/envs/py39/lib/python3.9/site-packages/pytorch_lightning/trainer/trainer.py:1764: PossibleUserWarning: GPU available but not used. Set `accelerator` and `devices` using `Trainer(accelerator='gpu', devices=1)`.\n",
      "  rank_zero_warn(\n",
      "\n",
      "  | Name | Type    | Params\n",
      "---------------------------------\n",
      "0 | net  | Network | 65    \n",
      "---------------------------------\n",
      "65        Trainable params\n",
      "0         Non-trainable params\n",
      "65        Total params\n",
      "0.000     Total estimated model params size (MB)\n",
      "/opt/anaconda/v3/envs/py39/lib/python3.9/site-packages/pytorch_lightning/trainer/connectors/data_connector.py:236: PossibleUserWarning: The dataloader, train_dataloader, does not have many workers which may be a bottleneck. Consider increasing the value of the `num_workers` argument` (try 96 which is the number of cpus on this machine) in the `DataLoader` init to improve performance.\n",
      "  rank_zero_warn(\n",
      "`Trainer.fit` stopped: `max_epochs=1000` reached.\n"
     ]
    }
   ],
   "source": [
    "model = LitModel(Network(16))\n",
    "trainer = pl.Trainer(max_epochs=1000, enable_checkpointing=False, enable_progress_bar=False)\n",
    "trainer.fit(model, dataloder)"
   ]
  },
  {
   "cell_type": "code",
   "execution_count": 35,
   "id": "67951666",
   "metadata": {},
   "outputs": [
    {
     "data": {
      "text/plain": [
       "1.0"
      ]
     },
     "execution_count": 35,
     "metadata": {},
     "output_type": "execute_result"
    }
   ],
   "source": [
    "accuracy(model.net, X, y)"
   ]
  },
  {
   "cell_type": "markdown",
   "id": "24d9dc34",
   "metadata": {},
   "source": [
    "And just like that you can easily train the same neural network without actually having to write a training loop. Under the hood a lot of what you've already seen is happening. There is a loop over the epoch, a call to `loss.backward()` and `optimizer.step()`. There's some other stuff happening as well that we don't need to worry about right now. In future tutorials I will use a combination of PyTorch Lightning and regular PyTorch depending on the task. This will help add variety, show the inner workings of machine learning (to an extent), and show how to abstract away some of the more tedious portions of code and let PL handle them."
   ]
  },
  {
   "cell_type": "markdown",
   "id": "e8622444",
   "metadata": {},
   "source": [
    "### Tasks\n",
    "If you've made it this far then you're all done! Below are a list of optional but recommended tasks to try. Each number below corresponds to one of the `# $MODIFY <number>` above. So for `1`, go back to `# $MODIFY 1` and modify the code there.\n",
    "\n",
    "If you want to speed up the original training loop you can pass in `train(..., get_bounary_enery_n_epochs=0)` to disable the saving of the bounary.\n",
    "\n",
    "1. Try changing the `idx` to 0 and re-run the code. How does the accuracy compare? Can it still fit the data well? Why do you think that is?\n",
    "2. Change the `opt_idx` to try out a different optimizer (0, 1, 2). Does one optimizer seem to perform better? Does it depend on the dataset?\n",
    "3. Try a different learning rate (lr). I didn't discuss this much, but each update to weights won't be a full update, but rather a step in that direction. The learning rate dictates how much of a step to take. Try some different values and see what happens. What do you think would happen if the learning rate was >1?\n",
    "4. Change `num_hidden_units`. What happens to the accuracy?"
   ]
  },
  {
   "cell_type": "markdown",
   "id": "a71758b1",
   "metadata": {},
   "source": [
    "Congrats! You're all done. See you next time."
   ]
  }
 ],
 "metadata": {
  "kernelspec": {
   "display_name": "Python 3 (ipykernel)",
   "language": "python",
   "name": "python3"
  },
  "language_info": {
   "codemirror_mode": {
    "name": "ipython",
    "version": 3
   },
   "file_extension": ".py",
   "mimetype": "text/x-python",
   "name": "python",
   "nbconvert_exporter": "python",
   "pygments_lexer": "ipython3",
   "version": "3.8.10"
  }
 },
 "nbformat": 4,
 "nbformat_minor": 5
}
