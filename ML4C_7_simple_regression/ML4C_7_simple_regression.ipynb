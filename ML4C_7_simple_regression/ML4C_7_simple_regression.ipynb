{
 "cells": [
  {
   "cell_type": "code",
   "execution_count": null,
   "metadata": {},
   "outputs": [],
   "source": [
    "\n",
    "from sklearn import datasets, linear_model\n",
    "\n",
    "from sklearn.metrics import mean_squared_error, r2_score\n",
    "import matplotlib.pyplot as plt\n",
    "import numpy as np\n",
    "\n",
    "%matplotlib inline"
   ]
  },
  {
   "cell_type": "code",
   "execution_count": null,
   "metadata": {},
   "outputs": [],
   "source": [
    "X, y = datasets.load_diabetes(return_X_y=True)\n",
    "\n",
    "X.shape"
   ]
  },
  {
   "cell_type": "code",
   "execution_count": null,
   "metadata": {},
   "outputs": [],
   "source": [
    "# Use a single feature\n",
    "X_single = X[:, 6].reshape(-1,1)\n",
    "ntrain = len(X_single) - int(len(X_single) * .90)\n",
    "X_train = X_single[:-ntrain, :]\n",
    "y_train = y[:-ntrain]\n",
    "X_test = X_single[-ntrain:, :]\n",
    "y_test = y[-ntrain:]\n",
    "\n",
    "print(X_train.shape)\n",
    "print(X_test.shape)"
   ]
  },
  {
   "cell_type": "code",
   "execution_count": null,
   "metadata": {},
   "outputs": [],
   "source": [
    "# Very basic linear regression\n",
    "lin_reg = linear_model.LinearRegression()\n",
    "lin_reg.fit(X_train, y_train)\n",
    "pred = lin_reg.predict(X_test)"
   ]
  },
  {
   "cell_type": "code",
   "execution_count": null,
   "metadata": {},
   "outputs": [],
   "source": [
    "# Plot \n",
    "plt.scatter(X_test, y_test)\n",
    "plt.plot(X_test.ravel(), pred)\n",
    "print('coeff', lin_reg.coef_)\n",
    "print('R squared', r2_score(y_test, pred))"
   ]
  },
  {
   "cell_type": "code",
   "execution_count": null,
   "metadata": {},
   "outputs": [],
   "source": [
    "from sklearn.preprocessing import PolynomialFeatures, StandardScaler\n",
    "\n",
    "# Difference between numpy and sklearn here\n",
    "x = np.array([2, 3, 4, 5, 6, 7, 7, 8, 9, 11, 12])\n",
    "y2 = np.array([18, 16, 15, 17, 20, 23, 25, 28, 31, 30, 29])\n",
    "\n",
    "X_test = x.reshape(-1,1)\n",
    "y_test = y2\n",
    "\n",
    "#create scatterplot to visualize relationship between x and y\n",
    "\n",
    "poly3 = PolynomialFeatures(degree=3, include_bias=False)\n",
    "poly3_features =poly3.fit_transform(X_test)\n",
    "poly3_reg = linear_model.LinearRegression()\n",
    "poly3_reg.fit(poly3_features, y_test)\n",
    "\n",
    "\n",
    "# sklearn\n",
    "pred = poly3_reg.predict(poly3_features)\n",
    "plt.scatter(X_test, y_test)\n",
    "plt.plot(X_test, pred)\n",
    "\n",
    "#numpy\n",
    "coefs = np.polyfit(X_test.flatten(), y_test.flatten(), 3)\n",
    "plt.scatter(X_test,y_test)\n",
    "X_seq = np.linspace(X_test.min(),X_test.max(),300).reshape(-1,1)\n",
    "plt.plot(X_seq, np.polyval(coefs, X_seq), color='purple')\n",
    "\n"
   ]
  },
  {
   "cell_type": "code",
   "execution_count": null,
   "metadata": {},
   "outputs": [],
   "source": [
    "# Multi\n",
    "ntrain = len(X) - int(len(X) * .90)\n",
    "X_train = X[:-ntrain, :]\n",
    "y_train = y[:-ntrain]\n",
    "\n",
    "X_test = X[-ntrain:, :]\n",
    "y_test = y[-ntrain:]\n",
    "\n",
    "print(X_train.shape)\n",
    "print(y_train.shape)\n",
    "print(X_test.shape)\n",
    "print(y_test.shape)"
   ]
  },
  {
   "cell_type": "code",
   "execution_count": null,
   "metadata": {},
   "outputs": [],
   "source": [
    "# Multi regression\n",
    "multi_reg = linear_model.LinearRegression()\n",
    "multi_reg.fit(X_train, y_train)\n",
    "pred = multi_reg.predict(X_test)\n",
    "print('R squared', r2_score(y_test, pred))"
   ]
  },
  {
   "cell_type": "code",
   "execution_count": null,
   "metadata": {},
   "outputs": [],
   "source": [
    "import statsmodels.api as sm\n",
    "import statsmodels.formula.api as smf\n",
    "import scipy.stats as stats\n",
    "import pandas as pd"
   ]
  },
  {
   "cell_type": "code",
   "execution_count": null,
   "metadata": {},
   "outputs": [],
   "source": [
    "NUM_BINS = 20\n",
    "plt.hist(y_train, bins=NUM_BINS)\n"
   ]
  },
  {
   "cell_type": "code",
   "execution_count": null,
   "metadata": {},
   "outputs": [],
   "source": [
    "df_train = pd.DataFrame(np.hstack((X_train, y_train.reshape(-1,1))))\n",
    "df_train = df_train.rename(lambda x: f'X{x}', axis='columns')\n",
    "print(df_train.head())\n",
    "\n",
    "# Create some groups\n",
    "counts, edges = np.histogram(y_train, bins=NUM_BINS)\n",
    "groups = np.digitize(y_train, edges) - 1\n",
    "groups\n"
   ]
  },
  {
   "cell_type": "code",
   "execution_count": null,
   "metadata": {},
   "outputs": [],
   "source": [
    "mstring = ' + '.join(f'X{i}' for i in range(10))\n",
    "mstring = 'X10 ~ ' + mstring\n",
    "print(mstring)\n",
    "# md = smf.mixedlm(mstring, data=df_train, groups=groups)\n",
    "model = sm.MixedLM.from_formula(mstring, groups=groups, data=df_train)\n"
   ]
  },
  {
   "cell_type": "code",
   "execution_count": null,
   "metadata": {},
   "outputs": [],
   "source": [
    "mdf = model.fit()"
   ]
  },
  {
   "cell_type": "code",
   "execution_count": null,
   "metadata": {},
   "outputs": [],
   "source": [
    "mdf.summary()"
   ]
  },
  {
   "cell_type": "code",
   "execution_count": null,
   "metadata": {},
   "outputs": [],
   "source": [
    "from statsmodels.tools.eval_measures import rmse\n",
    "\n",
    "re = mdf.random_effects\n",
    "rex = [np.dot(model.exog_re_li[j], re[k]) for (j, k) in enumerate(model.group_labels)]\n",
    "rex = np.concatenate(rex)\n",
    "yp = mdf.fittedvalues + rex\n",
    "\n",
    "yp\n"
   ]
  },
  {
   "cell_type": "code",
   "execution_count": null,
   "metadata": {},
   "outputs": [],
   "source": [
    "rmse(y_train, yp)"
   ]
  },
  {
   "cell_type": "code",
   "execution_count": null,
   "metadata": {},
   "outputs": [],
   "source": []
  }
 ],
 "metadata": {
  "kernelspec": {
   "display_name": "Python 3.7.9 64-bit",
   "language": "python",
   "name": "python3"
  },
  "language_info": {
   "codemirror_mode": {
    "name": "ipython",
    "version": 3
   },
   "file_extension": ".py",
   "mimetype": "text/x-python",
   "name": "python",
   "nbconvert_exporter": "python",
   "pygments_lexer": "ipython3",
   "version": "3.7.9"
  },
  "orig_nbformat": 4,
  "vscode": {
   "interpreter": {
    "hash": "d49c3f6d6dd49f9272b571d9fad348ab55b8c6c3f691520d74ed0af1f69c3dd8"
   }
  }
 },
 "nbformat": 4,
 "nbformat_minor": 2
}
