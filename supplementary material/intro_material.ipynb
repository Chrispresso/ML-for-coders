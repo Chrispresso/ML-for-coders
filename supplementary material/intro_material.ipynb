{
  "nbformat": 4,
  "nbformat_minor": 0,
  "metadata": {
    "colab": {
      "provenance": []
    },
    "kernelspec": {
      "name": "python3",
      "display_name": "Python 3"
    },
    "language_info": {
      "name": "python"
    }
  },
  "cells": [
    {
      "cell_type": "markdown",
      "source": [
        "This is meant as a quick introduction to Python, NumPy, Pandas, and Seaborn."
      ],
      "metadata": {
        "id": "oZLAXtYNJeyO"
      }
    },
    {
      "cell_type": "markdown",
      "source": [
        "# Python\n",
        "\n",
        "https://docs.python.org/3/tutorial/index.html"
      ],
      "metadata": {
        "id": "9z1WykgosfAn"
      }
    },
    {
      "cell_type": "markdown",
      "source": [
        "### Variables\n",
        "\n",
        "Everything in Python is an object. You can check what methods are defined for a specific object using `dir` and can check the type with `type`."
      ],
      "metadata": {
        "id": "vYnnhYArskMG"
      }
    },
    {
      "cell_type": "code",
      "source": [
        "a = 12\n",
        "b = 12.0\n",
        "\n",
        "print('a is', type(a))\n",
        "print('b is', type(b))\n",
        "print(dir(a))"
      ],
      "metadata": {
        "id": "_lBz25bn2IZP"
      },
      "execution_count": null,
      "outputs": []
    },
    {
      "cell_type": "markdown",
      "source": [
        "f-strings are your friend. At some point you'll want to print out the values of your variables. You can do this easily with f-strings."
      ],
      "metadata": {
        "id": "f_8OMFMg5NPK"
      }
    },
    {
      "cell_type": "code",
      "source": [
        "a = 12\n",
        "b = 'dog'\n",
        "c = 3.14\n",
        "\n",
        "print(f'a={a}, b={b}, c={c}')"
      ],
      "metadata": {
        "id": "3b81sFubqUWr"
      },
      "execution_count": null,
      "outputs": []
    },
    {
      "cell_type": "markdown",
      "source": [
        "They can also have expressions"
      ],
      "metadata": {
        "id": "LC7Cwfx_qvKG"
      }
    },
    {
      "cell_type": "code",
      "source": [
        "print(f'a + 12 = {a+12}')"
      ],
      "metadata": {
        "id": "SgWkwWISqxXD"
      },
      "execution_count": null,
      "outputs": []
    },
    {
      "cell_type": "markdown",
      "source": [
        "Similar to C++, you can override the operators that classes use. In Python these methods are sometimes known as `dunder` methods and include double underscores."
      ],
      "metadata": {
        "id": "F6qy6vuurJzw"
      }
    },
    {
      "cell_type": "code",
      "source": [
        "class MyObj:\n",
        "    def __init__(self, name):\n",
        "        self.name = name\n",
        "    \n",
        "    def __eq__(self, other):\n",
        "        print('-checking equality-')\n",
        "        return self.name == other.name\n",
        "\n",
        "    def __add__(self, other):\n",
        "        print('-adding-')\n",
        "        return MyObj(self.name + ' ' + other.name)\n",
        "    \n",
        "    def __radd__(self, other):\n",
        "        print('-other obj found-')\n",
        "        if isinstance(other, str):\n",
        "            return MyObj(self.name + ' ' + other)\n",
        "        else:\n",
        "            print('uh oh')\n",
        "            return None\n"
      ],
      "metadata": {
        "id": "1KrCTxP2rWyi"
      },
      "execution_count": null,
      "outputs": []
    },
    {
      "cell_type": "markdown",
      "source": [
        "These get invoked automatically when the operators are used."
      ],
      "metadata": {
        "id": "QxGOA_ndsMDv"
      }
    },
    {
      "cell_type": "code",
      "source": [
        "m1 = MyObj('taco')\n",
        "m2 = MyObj('bell')\n",
        "print('eq check')\n",
        "print(m1 == m2)\n",
        "print('addition check')\n",
        "print(m1 + m2)\n",
        "print('reverse addition check')\n",
        "print('liberty' + m2)\n",
        "print('reverse addition with int')\n",
        "print(12 + m2)"
      ],
      "metadata": {
        "id": "mU2AhJDGsRHv"
      },
      "execution_count": null,
      "outputs": []
    },
    {
      "cell_type": "markdown",
      "source": [
        "By default the string printed comes from `__str__()`. If there's nothing defined you will get the object location. You can also explicitly call these if you wanted. `__radd__` will only get called if the left operand does not support the operation. When you explicitly call these, wyou would have to take that into account. Otherwise Python will handle that for you when you use the operator."
      ],
      "metadata": {
        "id": "coYlzjpttlKA"
      }
    },
    {
      "cell_type": "code",
      "source": [
        "m1.__add__(m2)\n",
        "m1.__radd__('liberty')"
      ],
      "metadata": {
        "id": "uICj9x3ntx2M"
      },
      "execution_count": null,
      "outputs": []
    },
    {
      "cell_type": "markdown",
      "source": [
        "### Lists"
      ],
      "metadata": {
        "id": "fKk06Wkit7iy"
      }
    },
    {
      "cell_type": "code",
      "source": [
        "l = [1,2,3]\n",
        "print(len(l))"
      ],
      "metadata": {
        "id": "KeWVsRJ-t6wX"
      },
      "execution_count": null,
      "outputs": []
    },
    {
      "cell_type": "markdown",
      "source": [
        "Lists can easily be concatenated together"
      ],
      "metadata": {
        "id": "FfPpkCSmuXpW"
      }
    },
    {
      "cell_type": "code",
      "source": [
        "new_list = l + [4,5,6]\n",
        "print(new_list)"
      ],
      "metadata": {
        "id": "a7pTk5zxuWzY"
      },
      "execution_count": null,
      "outputs": []
    },
    {
      "cell_type": "markdown",
      "source": [
        "Lists can be created using `range` with `list`.\n",
        "Range also supported a `step` amount, e.g. how much to increment by each step.\n"
      ],
      "metadata": {
        "id": "jvy0ZUU9uf1S"
      }
    },
    {
      "cell_type": "code",
      "source": [
        "print(list(range(1, 10)))\n",
        "print(list(range(1, 10, 2)))"
      ],
      "metadata": {
        "id": "o_806G8sujDT"
      },
      "execution_count": null,
      "outputs": []
    },
    {
      "cell_type": "markdown",
      "source": [
        "You can access portions of your list with a slice."
      ],
      "metadata": {
        "id": "vKkCPYrevwqi"
      }
    },
    {
      "cell_type": "code",
      "source": [
        "l = list(range(1,10))\n",
        "print(l[0:4])  # Print elements at indices 0, 1, 2, 3\n",
        "print(l[:4])   # Print elements at indices 0, 1, 2, 3\n",
        "print(l[4:])   # Print elements at indices 4, 5, 6....\n",
        "print(l[0::2]) # Print every other element\n",
        "print(l[0:len(l):2]) # Print every other element"
      ],
      "metadata": {
        "id": "oMPDwi61w_-o"
      },
      "execution_count": null,
      "outputs": []
    },
    {
      "cell_type": "markdown",
      "source": [
        "You can use slices to delete elements as well."
      ],
      "metadata": {
        "id": "Y9-TLn8pyC5h"
      }
    },
    {
      "cell_type": "code",
      "source": [
        "print(l)\n",
        "del l[0::2]\n",
        "print(l)"
      ],
      "metadata": {
        "id": "Ih5S-MTwyG8k"
      },
      "execution_count": null,
      "outputs": []
    },
    {
      "cell_type": "markdown",
      "source": [
        "Shallow copy with slices."
      ],
      "metadata": {
        "id": "nH3jD9mAykQL"
      }
    },
    {
      "cell_type": "code",
      "source": [
        "l = list(range(1, 10))\n",
        "new_l = l[:]  # Shallow copy\n",
        "del new_l[0::2]\n",
        "print(l)\n",
        "print(new_l)"
      ],
      "metadata": {
        "id": "iK9WzH53ymzx"
      },
      "execution_count": null,
      "outputs": []
    },
    {
      "cell_type": "markdown",
      "source": [
        "Shallow copies are still dangerous in Python."
      ],
      "metadata": {
        "id": "eCasw53nyyvO"
      }
    },
    {
      "cell_type": "code",
      "source": [
        "l = [\n",
        "    list(range(1, 10)),\n",
        "    list(range(2, 8, 2))\n",
        "]\n",
        "print(l)\n",
        "new_l = l[:]  # A shallow copy of a list of lists is just going to copy a pointer over\n",
        "del new_l[0][0]\n",
        "print(l) # Where'd the 1 go??\n",
        "print(new_l)"
      ],
      "metadata": {
        "id": "JxPNu0Uwy2cA"
      },
      "execution_count": null,
      "outputs": []
    },
    {
      "cell_type": "markdown",
      "source": [
        "You want `copy.deepcopy` instead."
      ],
      "metadata": {
        "id": "jt2Dht0izhoT"
      }
    },
    {
      "cell_type": "code",
      "source": [
        "from copy import deepcopy\n",
        "l = [\n",
        "    list(range(1, 10)),\n",
        "    list(range(2, 8, 2))\n",
        "]\n",
        "print(l)\n",
        "new_l = deepcopy(l) \n",
        "del new_l[0][0]\n",
        "print(l) # Found the 1\n",
        "print(new_l)"
      ],
      "metadata": {
        "id": "1gmpgSNKzmo5"
      },
      "execution_count": null,
      "outputs": []
    },
    {
      "cell_type": "markdown",
      "source": [
        "Strings can be converted to character arrays by calling `list` on them."
      ],
      "metadata": {
        "id": "NgvFVjsE4F3Z"
      }
    },
    {
      "cell_type": "code",
      "source": [
        "l = list('hello')\n",
        "print(l)"
      ],
      "metadata": {
        "id": "0dShMRIg4Mwp"
      },
      "execution_count": null,
      "outputs": []
    },
    {
      "cell_type": "markdown",
      "source": [
        "List comprehensions are cool..... you comprehend? Syntax is similar to a for loop."
      ],
      "metadata": {
        "id": "rOR5ssibz2-7"
      }
    },
    {
      "cell_type": "code",
      "source": [
        "l = []\n",
        "for i in range(10):\n",
        "    l.append(i)\n",
        "\n",
        "new_l = [i for i in range(10)]\n",
        "print(l)\n",
        "print(new_l)"
      ],
      "metadata": {
        "id": "dd_VIiTU0FBz"
      },
      "execution_count": null,
      "outputs": []
    },
    {
      "cell_type": "markdown",
      "source": [
        "Let's toss in an if statement"
      ],
      "metadata": {
        "id": "uWe75lVP0QNv"
      }
    },
    {
      "cell_type": "code",
      "source": [
        "l = []\n",
        "for i in range(10):\n",
        "    if i % 2 == 0:\n",
        "        l.append(i)\n",
        "\n",
        "new_l = [i for i in range(10) if i % 2 == 0]\n",
        "print(l)\n",
        "print(new_l)"
      ],
      "metadata": {
        "id": "SPS1KoeR0aPe"
      },
      "execution_count": null,
      "outputs": []
    },
    {
      "cell_type": "markdown",
      "source": [
        "Let's make like birds and get nested."
      ],
      "metadata": {
        "id": "owvVcGSg0nKY"
      }
    },
    {
      "cell_type": "code",
      "source": [
        "l = []\n",
        "for i in range(3):\n",
        "    for j in range(2):\n",
        "        l.append((i, j))\n",
        "\n",
        "new_l = [(i,j) for i in range(3) for j in range(2)]\n",
        "print(l)\n",
        "print(new_l)"
      ],
      "metadata": {
        "id": "onUL1lOA0vz-"
      },
      "execution_count": null,
      "outputs": []
    },
    {
      "cell_type": "markdown",
      "source": [
        "Let's iterate over the items in a list"
      ],
      "metadata": {
        "id": "Ul4LqTLD4kwl"
      }
    },
    {
      "cell_type": "code",
      "source": [
        "l = list(range(2,10))\n",
        "for item in l:\n",
        "    print(item)"
      ],
      "metadata": {
        "id": "wt9RpRJz4jrF"
      },
      "execution_count": null,
      "outputs": []
    },
    {
      "cell_type": "markdown",
      "source": [
        "What if you want to want to keep track of the index of the item? Option 1."
      ],
      "metadata": {
        "id": "WUJLGtzF4wv1"
      }
    },
    {
      "cell_type": "code",
      "source": [
        "for i in range(len(l)):\n",
        "    print(f'idx={i}, item={l[i]}')"
      ],
      "metadata": {
        "id": "iEh6LhMp5FUW"
      },
      "execution_count": null,
      "outputs": []
    },
    {
      "cell_type": "markdown",
      "source": [
        "Option 2 - using `enumerate` to get the index and the item."
      ],
      "metadata": {
        "id": "ia6PEgY-Dvjs"
      }
    },
    {
      "cell_type": "code",
      "source": [
        "for i, item in enumerate(l):\n",
        "    print(f'idx={i}, item={item}')"
      ],
      "metadata": {
        "id": "LkF1uQ2ZD3zf"
      },
      "execution_count": null,
      "outputs": []
    },
    {
      "cell_type": "markdown",
      "source": [
        "You can also use negative indices to reference the end of the list starting at -1."
      ],
      "metadata": {
        "id": "ZjwqXts4H4T1"
      }
    },
    {
      "cell_type": "code",
      "source": [
        "print('last element is', l[-1])\n",
        "print('last 3 elements are', l[-3:])"
      ],
      "metadata": {
        "id": "4-UK7VCVH3XX"
      },
      "execution_count": null,
      "outputs": []
    },
    {
      "cell_type": "markdown",
      "source": [
        "### Dictionaries"
      ],
      "metadata": {
        "id": "YbwOfy9g1OCq"
      }
    },
    {
      "cell_type": "markdown",
      "source": [
        "Dictionaries are wonderful. Key-value pairs of arbitrary objects."
      ],
      "metadata": {
        "id": "14AqQBaP1RwQ"
      }
    },
    {
      "cell_type": "code",
      "source": [
        "d = {\n",
        "    'a': 1,\n",
        "    'b': 2,\n",
        "    'c': 3\n",
        "}\n",
        "\n",
        "print(d)\n",
        "print(d['a'])"
      ],
      "metadata": {
        "id": "7p53zYjy1c-N"
      },
      "execution_count": null,
      "outputs": []
    },
    {
      "cell_type": "markdown",
      "source": [
        "Iterate over the dictionary."
      ],
      "metadata": {
        "id": "wRDgan5M3mpi"
      }
    },
    {
      "cell_type": "code",
      "source": [
        "for k,v in d.items():\n",
        "    print('k', k, end = '\\t')\n",
        "    print('v', v)"
      ],
      "metadata": {
        "id": "PIxiyAN51rnb"
      },
      "execution_count": null,
      "outputs": []
    },
    {
      "cell_type": "markdown",
      "source": [
        "Do you... comprehend dictionaries?"
      ],
      "metadata": {
        "id": "e3WrqwYn38Fd"
      }
    },
    {
      "cell_type": "code",
      "source": [
        "d = {k:v for k,v in enumerate(list('abc'), 1)}\n",
        "print(d)"
      ],
      "metadata": {
        "id": "blULf5Vl4APR"
      },
      "execution_count": null,
      "outputs": []
    },
    {
      "cell_type": "markdown",
      "source": [
        "Python also offers `generator` objects. Generators are a lot like normal for loops except each call of `next()` will go to the next `yield` statement - remembering the current state of the iteration. This is especially handy if you don't want to store all the elements in RAM at once."
      ],
      "metadata": {
        "id": "lOtWkpSZEQ_Y"
      }
    },
    {
      "cell_type": "markdown",
      "source": [
        "Here's a simple generator:"
      ],
      "metadata": {
        "id": "qPZLyMX2FLr-"
      }
    },
    {
      "cell_type": "code",
      "source": [
        "def simple_generator():\n",
        "    yield 1\n",
        "    yield 2\n",
        "    print('hello')\n",
        "    yield 3\n",
        "\n",
        "\n",
        "gen = simple_generator()\n",
        "print('type is', type(gen))\n",
        "print(next(gen))\n",
        "print(next(gen))"
      ],
      "metadata": {
        "id": "BxyztVgnFSC8"
      },
      "execution_count": null,
      "outputs": []
    },
    {
      "cell_type": "markdown",
      "source": [
        "What do you think happens the next call to `next()`?"
      ],
      "metadata": {
        "id": "EeswtnL4F3M7"
      }
    },
    {
      "cell_type": "code",
      "source": [
        "print(next(gen))"
      ],
      "metadata": {
        "id": "YllzDxiOF6qi"
      },
      "execution_count": null,
      "outputs": []
    },
    {
      "cell_type": "markdown",
      "source": [
        "Once the generator has been exhausted, the generator will throw a `StopIteration`."
      ],
      "metadata": {
        "id": "8Qi8FhygGCh6"
      }
    },
    {
      "cell_type": "code",
      "source": [
        "print(next(gen))"
      ],
      "metadata": {
        "id": "7Sp847KlGNuW"
      },
      "execution_count": null,
      "outputs": []
    },
    {
      "cell_type": "markdown",
      "source": [
        "You can also use `map` to apply a function to an iterable sequence. For instance you can add 2 to every element like this:"
      ],
      "metadata": {
        "id": "agH5aXLT7gMp"
      }
    },
    {
      "cell_type": "code",
      "source": [
        "l = list(range(5))\n",
        "def add_two(val):\n",
        "    return val + 2\n",
        "\n",
        "m = map(add_two, l)\n",
        "print(type(m))\n",
        "for item in m:\n",
        "    print(item)"
      ],
      "metadata": {
        "id": "3_UyXfHN7seX"
      },
      "execution_count": null,
      "outputs": []
    },
    {
      "cell_type": "markdown",
      "source": [
        "You can also define a `lambda` function as the anonymous function to apply. If you want to get the `map` object back to a list you can call `list` on it without explicitly having to iterate over each item."
      ],
      "metadata": {
        "id": "ay1IqZO98IfI"
      }
    },
    {
      "cell_type": "code",
      "source": [
        "l = list(range(5))\n",
        "list(map(lambda val: val + 2, l))"
      ],
      "metadata": {
        "id": "dDkvG4Wa8N9C"
      },
      "execution_count": null,
      "outputs": []
    },
    {
      "cell_type": "markdown",
      "source": [
        "# Numpy\n",
        "\n",
        "For a great quickstart, check out [numpy's official quickstart](https://numpy.org/doc/stable/user/quickstart.html), [beginners](https://numpy.org/doc/stable/user/absolute_beginners.html) and  [fundamentals](https://numpy.org/doc/stable/user/basics.html) section."
      ],
      "metadata": {
        "id": "fOIJdBe0sXiA"
      }
    },
    {
      "cell_type": "markdown",
      "source": [
        "Numpy is great for working with multidimensional arrays"
      ],
      "metadata": {
        "id": "1u0gANw09QWI"
      }
    },
    {
      "cell_type": "code",
      "source": [
        "import numpy as np\n",
        "\n",
        "a = np.array([1, 2, 3, 4])\n",
        "print(type(a))\n",
        "print(a.dtype)\n",
        "print(a)"
      ],
      "metadata": {
        "id": "v9TvWAAU9Dxb"
      },
      "execution_count": null,
      "outputs": []
    },
    {
      "cell_type": "markdown",
      "source": [
        "Specify the `dtype` at creation time or convert it later."
      ],
      "metadata": {
        "id": "xDWZd8nvqxYw"
      }
    },
    {
      "cell_type": "code",
      "source": [
        "a = np.array([1, 2, 3, 4], dtype=np.int16)\n",
        "print(a.dtype)\n",
        "a = a.astype(np.float64)\n",
        "print(a.dtype)"
      ],
      "metadata": {
        "id": "v01JKuAAquEq"
      },
      "execution_count": null,
      "outputs": []
    },
    {
      "cell_type": "markdown",
      "source": [
        "Perform arithmetic with [broadcasting](https://numpy.org/doc/stable/user/basics.broadcasting.html). Broadcasting allows operations on different shapes. General rules (from their website):\n",
        "\n",
        "\n",
        "\n",
        "> When operating on two arrays, NumPy compares their shapes element-wise. It >  starts with the trailing (i.e. rightmost) dimensions and works its way left. Two dimensions are compatible when\n",
        "1. they are equal, or\n",
        "2. one of them is 1\n",
        "\n"
      ],
      "metadata": {
        "id": "HbOeyQi1rEkV"
      }
    },
    {
      "cell_type": "code",
      "source": [
        "a = np.arange(5)\n",
        "print(a)\n",
        "print(a + 2)"
      ],
      "metadata": {
        "id": "JyQRyIwerBgb"
      },
      "execution_count": null,
      "outputs": []
    },
    {
      "cell_type": "markdown",
      "source": [
        "You can easily reshape arrays and can even use `-1` to infer the size assuming you give the other dimensions."
      ],
      "metadata": {
        "id": "Xx-c3DnrsCZ5"
      }
    },
    {
      "cell_type": "code",
      "source": [
        "a = np.arange(12).reshape(-1, 4)\n",
        "print(a.shape)\n",
        "a"
      ],
      "metadata": {
        "id": "2RKXB1acr3az"
      },
      "execution_count": null,
      "outputs": []
    },
    {
      "cell_type": "code",
      "source": [
        "a = np.arange(12).reshape(-1, 3, 4)\n",
        "print(a.shape)\n",
        "a"
      ],
      "metadata": {
        "id": "QDL8pej_sj7c"
      },
      "execution_count": null,
      "outputs": []
    },
    {
      "cell_type": "code",
      "source": [
        "a = np.arange(12).reshape(-1, 3) + np.array([1,2,3])\n",
        "a"
      ],
      "metadata": {
        "id": "36YpWubms_Zs"
      },
      "execution_count": null,
      "outputs": []
    },
    {
      "cell_type": "markdown",
      "source": [
        "Broadcasting will fail if the trailing dimensions don't match."
      ],
      "metadata": {
        "id": "ccZv_eq7tWiZ"
      }
    },
    {
      "cell_type": "code",
      "source": [
        "a = np.arange(12).reshape(-1, 3)  # (4,3)\n",
        "b = np.arange(4)  # (4,)\n",
        "a + b"
      ],
      "metadata": {
        "id": "o0RtsEpVtMZx"
      },
      "execution_count": null,
      "outputs": []
    },
    {
      "cell_type": "markdown",
      "source": [
        "You can sort your arrays."
      ],
      "metadata": {
        "id": "0qz57ziNtu83"
      }
    },
    {
      "cell_type": "code",
      "source": [
        "a = np.random.randint(0, 10, (10,))\n",
        "a"
      ],
      "metadata": {
        "id": "6I8AXzIpthG3"
      },
      "execution_count": null,
      "outputs": []
    },
    {
      "cell_type": "code",
      "source": [
        "np.sort(a)"
      ],
      "metadata": {
        "id": "WgIK7oXOt31L"
      },
      "execution_count": null,
      "outputs": []
    },
    {
      "cell_type": "markdown",
      "source": [
        "Or you can just get the indices that would be needed to sort the array."
      ],
      "metadata": {
        "id": "Cr-HeUdwt8Mu"
      }
    },
    {
      "cell_type": "code",
      "source": [
        "np.argsort(a)"
      ],
      "metadata": {
        "id": "ibfmcJeat6dw"
      },
      "execution_count": null,
      "outputs": []
    },
    {
      "cell_type": "markdown",
      "source": [
        "Let's access some data from a 2D array."
      ],
      "metadata": {
        "id": "XwpajBM4uL7L"
      }
    },
    {
      "cell_type": "code",
      "source": [
        "a = np.arange(12).reshape(-1, 3)\n",
        "print(a)"
      ],
      "metadata": {
        "id": "cqcxfIL1uGAh"
      },
      "execution_count": null,
      "outputs": []
    },
    {
      "cell_type": "markdown",
      "source": [
        "Access the last row:"
      ],
      "metadata": {
        "id": "6oIEYeJquUMy"
      }
    },
    {
      "cell_type": "code",
      "source": [
        "a[-1, :]"
      ],
      "metadata": {
        "id": "QvPBbmbauSjX"
      },
      "execution_count": null,
      "outputs": []
    },
    {
      "cell_type": "markdown",
      "source": [
        "Access the last column"
      ],
      "metadata": {
        "id": "6_Y7fk2zuZ96"
      }
    },
    {
      "cell_type": "code",
      "source": [
        "a[:, -1]"
      ],
      "metadata": {
        "id": "JT4rf8sJuXJt"
      },
      "execution_count": null,
      "outputs": []
    },
    {
      "cell_type": "markdown",
      "source": [
        "Access multiple indices at once:"
      ],
      "metadata": {
        "id": "N0c83e1CujSK"
      }
    },
    {
      "cell_type": "code",
      "source": [
        "rows = np.array([0, 0, 1])\n",
        "cols = np.array([0, 1, 1])\n",
        "a[rows, cols]"
      ],
      "metadata": {
        "id": "KHAg9KgyufRa"
      },
      "execution_count": null,
      "outputs": []
    },
    {
      "cell_type": "code",
      "source": [
        "indices = np.array([0, 1, 4])\n",
        "a.ravel()[indices]  # Can use ravel to create a 1D view of the data"
      ],
      "metadata": {
        "id": "iJymkHm3u2xD"
      },
      "execution_count": null,
      "outputs": []
    },
    {
      "cell_type": "markdown",
      "source": [
        "You can perform logical operations to help separate data."
      ],
      "metadata": {
        "id": "Uxj7gA1wwAPv"
      }
    },
    {
      "cell_type": "code",
      "source": [
        "a > 5"
      ],
      "metadata": {
        "id": "B4kwswarvv57"
      },
      "execution_count": null,
      "outputs": []
    },
    {
      "cell_type": "code",
      "source": [
        "a[a > 5]"
      ],
      "metadata": {
        "id": "I-LkuEGywHF-"
      },
      "execution_count": null,
      "outputs": []
    },
    {
      "cell_type": "markdown",
      "source": [
        "If you need the indices associated with these, you can use `np.where`"
      ],
      "metadata": {
        "id": "Gl15C7pkyXWL"
      }
    },
    {
      "cell_type": "code",
      "source": [
        "rows, cols = np.where(a > 5)\n",
        "print(rows)\n",
        "print(cols)\n",
        "print(a[rows, cols])"
      ],
      "metadata": {
        "id": "lXVw7PGuwLWS"
      },
      "execution_count": null,
      "outputs": []
    },
    {
      "cell_type": "markdown",
      "source": [
        "You can stack your arrays as well."
      ],
      "metadata": {
        "id": "YRmEOGxXyWq-"
      }
    },
    {
      "cell_type": "code",
      "source": [
        "a = np.arange(3).reshape(-1, 1)\n",
        "b = np.arange(3, 6).reshape(-1, 1)\n",
        "c = np.arange(6, 9).reshape(-1, 1)\n",
        "\n",
        "np.hstack((a, b, c))"
      ],
      "metadata": {
        "id": "Rm64kjV21j9m"
      },
      "execution_count": null,
      "outputs": []
    },
    {
      "cell_type": "code",
      "source": [
        "np.vstack((a,b,c))"
      ],
      "metadata": {
        "id": "iYQ-8NPs1vXr"
      },
      "execution_count": null,
      "outputs": []
    },
    {
      "cell_type": "markdown",
      "source": [
        "You can expand dimensions. This is useful to get shapes to match (batch size, etc)."
      ],
      "metadata": {
        "id": "IJ5YH88f2Fm-"
      }
    },
    {
      "cell_type": "code",
      "source": [
        "a = np.arange(5)\n",
        "print(a.shape)\n",
        "print(a)\n",
        "\n",
        "a = np.expand_dims(a, axis=0)\n",
        "print(a.shape)\n",
        "print(a)"
      ],
      "metadata": {
        "id": "ja1c3cTN113k"
      },
      "execution_count": null,
      "outputs": []
    },
    {
      "cell_type": "markdown",
      "source": [
        "# Pandas\n",
        "\n",
        "Pandas is a way to store table data. For a great quickstart, check out their [official getting started](https://pandas.pydata.org/docs/getting_started/intro_tutorials/index.html) tutorial. Pandas has rows and columns - very similar to excel, except pandas is actually useful.\n",
        "\n",
        "There are a number of ways to read in data with pandas. You can create a `DataFrame` from a csv, numpy array, dictionary, etc."
      ],
      "metadata": {
        "id": "A8TgPhD12z8V"
      }
    },
    {
      "cell_type": "code",
      "source": [
        "import pandas as pd\n",
        "\n",
        "a = np.arange(12).reshape(-1, 3)\n",
        "df = pd.DataFrame(a, columns=['Col A', 'Col B', 'Col C'])\n",
        "df"
      ],
      "metadata": {
        "id": "4ahpI19l2ddq"
      },
      "execution_count": null,
      "outputs": []
    },
    {
      "cell_type": "markdown",
      "source": [
        "Each column in the data frame is a `Series`. These series can be accessed by as a string. Series also allow for a number of high level functions to help gain insight into your data."
      ],
      "metadata": {
        "id": "iwOSSNS74fa9"
      }
    },
    {
      "cell_type": "code",
      "source": [
        "col_a = df['Col A']\n",
        "print(type(col_a))\n",
        "col_a"
      ],
      "metadata": {
        "id": "Lwy4cwBO4ZLZ"
      },
      "execution_count": null,
      "outputs": []
    },
    {
      "cell_type": "code",
      "source": [
        "col_a.max()  # A method applied to a series"
      ],
      "metadata": {
        "id": "rqxW3ZGw5QoL"
      },
      "execution_count": null,
      "outputs": []
    },
    {
      "cell_type": "code",
      "source": [
        "df.max()  # A method applied to a DataFrame"
      ],
      "metadata": {
        "id": "fb08KtQC5mTy"
      },
      "execution_count": null,
      "outputs": []
    },
    {
      "cell_type": "markdown",
      "source": [
        "Let's switch to a real dataset to gather some actual insight."
      ],
      "metadata": {
        "id": "72DB3EO85-QI"
      }
    },
    {
      "cell_type": "code",
      "source": [
        "from sklearn.datasets import fetch_openml\n",
        "import pandas as pd\n",
        "\n",
        "data =  fetch_openml(data_id=40945, as_frame=True)\n",
        "df = data.data\n",
        "target = data.target"
      ],
      "metadata": {
        "id": "G7mGQ3xx5vaG"
      },
      "execution_count": null,
      "outputs": []
    },
    {
      "cell_type": "markdown",
      "source": [
        "This is the \"Titanic\" dataset. Basically a dataset to predict whether someone lived or died based on a number of features. You can use `df.head()` to look at some of the data."
      ],
      "metadata": {
        "id": "knMr94fj6iNS"
      }
    },
    {
      "cell_type": "code",
      "source": [
        "df.head()"
      ],
      "metadata": {
        "id": "hkOC3y2P6UBi"
      },
      "execution_count": null,
      "outputs": []
    },
    {
      "cell_type": "markdown",
      "source": [
        "The total number of entries will be the length of the dataframe."
      ],
      "metadata": {
        "id": "4cPq8yBP67JE"
      }
    },
    {
      "cell_type": "code",
      "source": [
        "len(df)"
      ],
      "metadata": {
        "id": "B6FFwNCm6ZHO"
      },
      "execution_count": null,
      "outputs": []
    },
    {
      "cell_type": "markdown",
      "source": [
        "To gather basic statistics on a Series or a DataFrame, you can use `.describe()`."
      ],
      "metadata": {
        "id": "iGZFaN7P7C6u"
      }
    },
    {
      "cell_type": "code",
      "source": [
        "df['age'].describe()"
      ],
      "metadata": {
        "id": "88UA--866-sG"
      },
      "execution_count": null,
      "outputs": []
    },
    {
      "cell_type": "code",
      "source": [
        "df['cabin'].describe()"
      ],
      "metadata": {
        "id": "PtqNCgrN7KjF"
      },
      "execution_count": null,
      "outputs": []
    },
    {
      "cell_type": "markdown",
      "source": [
        "For categorical data, you might want to know what values there are and the frequency of each. For this you can use `value_counts()`."
      ],
      "metadata": {
        "id": "1bPsPeEA7Tpc"
      }
    },
    {
      "cell_type": "code",
      "source": [
        "df['cabin'].value_counts()"
      ],
      "metadata": {
        "id": "Xs50EhDY7PZA"
      },
      "execution_count": null,
      "outputs": []
    },
    {
      "cell_type": "markdown",
      "source": [
        "You can select subsets of your data as well by using a list."
      ],
      "metadata": {
        "id": "Thaxyr4g7vdk"
      }
    },
    {
      "cell_type": "code",
      "source": [
        "# Notice the inner list\n",
        "df[['age', 'fare']] "
      ],
      "metadata": {
        "id": "31CPkqwk7dW4"
      },
      "execution_count": null,
      "outputs": []
    },
    {
      "cell_type": "markdown",
      "source": [
        "Similar to what we did with `numpy`, you can grab a subset of data based on logical operations. For instance, what if you only want to look at passengers that are younger than 18?"
      ],
      "metadata": {
        "id": "pA8IDATD8ByU"
      }
    },
    {
      "cell_type": "code",
      "source": [
        "df[df['age'] < 18]"
      ],
      "metadata": {
        "id": "uTLvepkA79xI"
      },
      "execution_count": null,
      "outputs": []
    },
    {
      "cell_type": "markdown",
      "source": [
        "You can use additional operators for boolean indexing. For instance, you might want to find the entries (rows or people in this case) that were in 1st or 2nd class."
      ],
      "metadata": {
        "id": "a-t6t6DM8izB"
      }
    },
    {
      "cell_type": "code",
      "source": [
        "df[ (df['pclass'] == 1.0) | (df['pclass'] == 2.0) ]"
      ],
      "metadata": {
        "id": "KlXbf2I-8QAM"
      },
      "execution_count": null,
      "outputs": []
    },
    {
      "cell_type": "markdown",
      "source": [
        "You can also use `isin` to check the value of a Series is in a list of values. So you can instead do the following to check for 1st or 2nd class:"
      ],
      "metadata": {
        "id": "iKSj0DUv9aj5"
      }
    },
    {
      "cell_type": "code",
      "source": [
        "df[ df['pclass'].isin([1, 2]) ]"
      ],
      "metadata": {
        "id": "rTxaxxli9T58"
      },
      "execution_count": null,
      "outputs": []
    },
    {
      "cell_type": "markdown",
      "source": [
        "Maybe you're interested in data where the age is known."
      ],
      "metadata": {
        "id": "mFRKZIJbBvxX"
      }
    },
    {
      "cell_type": "code",
      "source": [
        "df[ df['age'].notna() ]"
      ],
      "metadata": {
        "id": "S-hvnGbW9viV"
      },
      "execution_count": null,
      "outputs": []
    },
    {
      "cell_type": "markdown",
      "source": [
        "Maybe you're looking for people younger than 18 but only care about their name."
      ],
      "metadata": {
        "id": "vfv-cmpiB9hI"
      }
    },
    {
      "cell_type": "code",
      "source": [
        "df[df['age'] < 18][['age', 'name']]  # A weird and awkward way to do it"
      ],
      "metadata": {
        "id": "DDX0wAf3B6OV"
      },
      "execution_count": null,
      "outputs": []
    },
    {
      "cell_type": "markdown",
      "source": [
        "Can instead use `.loc[]`. "
      ],
      "metadata": {
        "id": "DIs2HJ31CtGm"
      }
    },
    {
      "cell_type": "code",
      "source": [
        "df.loc[df['age'] < 18, ['age', 'name']]  # Cleaner"
      ],
      "metadata": {
        "id": "I4r2ut15CiuY"
      },
      "execution_count": null,
      "outputs": []
    },
    {
      "cell_type": "markdown",
      "source": [
        "If needed, you can access rows or columns directly using `iloc`."
      ],
      "metadata": {
        "id": "UBVZDGLCDxPu"
      }
    },
    {
      "cell_type": "code",
      "source": [
        "df.iloc[0]"
      ],
      "metadata": {
        "id": "DfUJyg7mC143"
      },
      "execution_count": null,
      "outputs": []
    },
    {
      "cell_type": "code",
      "source": [
        "df.iloc[:3]"
      ],
      "metadata": {
        "id": "-2h5cp9FD3Bp"
      },
      "execution_count": null,
      "outputs": []
    },
    {
      "cell_type": "code",
      "source": [
        "bool_indices = [True] + [False] * (len(df) - 1)\n",
        "df.iloc[bool_indices]"
      ],
      "metadata": {
        "id": "BpX-dktWEBfJ"
      },
      "execution_count": null,
      "outputs": []
    },
    {
      "cell_type": "markdown",
      "source": [
        "In general, if you want to modify a `Series`, try to avoid iterating over the rows, and instead opt for `.apply()`. For instance if you needed to change the age of everyone by +2, you could do this:"
      ],
      "metadata": {
        "id": "pM8tFyI55LQv"
      }
    },
    {
      "cell_type": "code",
      "source": [
        "df['age'].apply(lambda age: age + 2)"
      ],
      "metadata": {
        "id": "g0S-IcKSEGrZ"
      },
      "execution_count": null,
      "outputs": []
    },
    {
      "cell_type": "markdown",
      "source": [
        "It's often very helpful to view your data. Pandas has some build in plotting functions that make it quite easy."
      ],
      "metadata": {
        "id": "GENazkv96GLK"
      }
    },
    {
      "cell_type": "code",
      "source": [
        "df['age'].plot.box(figsize=(8, 8))"
      ],
      "metadata": {
        "id": "E3CB5fUp5Hop"
      },
      "execution_count": null,
      "outputs": []
    },
    {
      "cell_type": "code",
      "source": [
        "df['age'].plot.kde(figsize=(8,8))"
      ],
      "metadata": {
        "id": "cvb3zUo56VRS"
      },
      "execution_count": null,
      "outputs": []
    },
    {
      "cell_type": "code",
      "source": [
        "df['fare'].plot.hist(figsize=(8,8))"
      ],
      "metadata": {
        "id": "LZUmlr6hCGH2"
      },
      "execution_count": null,
      "outputs": []
    },
    {
      "cell_type": "code",
      "source": [
        "df = pd.concat((df, target), axis=1)  # Add the \"survived\" column"
      ],
      "metadata": {
        "id": "DIXYjiGj6am1"
      },
      "execution_count": null,
      "outputs": []
    },
    {
      "cell_type": "markdown",
      "source": [
        "Let's say we have a hypothesis that only the rich survived. We could create a machine learning model and check the accuracy, but we can also just visualize if that's the case."
      ],
      "metadata": {
        "id": "CLPWJ6d-99U1"
      }
    },
    {
      "cell_type": "code",
      "source": [
        "df_fare_survived = df.loc[ df['fare'].notna(), ['fare', 'survived']]\n",
        "df_fare_survived.plot.scatter('fare', 'survived', figsize=(8,8))"
      ],
      "metadata": {
        "id": "gAtxFY4q8Izl"
      },
      "execution_count": null,
      "outputs": []
    },
    {
      "cell_type": "markdown",
      "source": [
        "You can then perform some basic statistics to find out more."
      ],
      "metadata": {
        "id": "7EY67zBp-VJB"
      }
    },
    {
      "cell_type": "code",
      "source": [
        "indices_survived = df_fare_survived['survived'] == '1'\n",
        "df_fare_survived.loc[indices_survived, 'fare'].describe()"
      ],
      "metadata": {
        "id": "DeEqWHaV9Z1y"
      },
      "execution_count": null,
      "outputs": []
    },
    {
      "cell_type": "code",
      "source": [
        "df_fare_survived.loc[~indices_survived, 'fare'].describe()"
      ],
      "metadata": {
        "id": "mllKfSEP-hMd"
      },
      "execution_count": null,
      "outputs": []
    },
    {
      "cell_type": "markdown",
      "source": [],
      "metadata": {
        "id": "ihXlp-tzAurD"
      }
    },
    {
      "cell_type": "code",
      "source": [
        "df_fare_survived['fare'].describe()"
      ],
      "metadata": {
        "id": "3VctkmCgAhbm"
      },
      "execution_count": null,
      "outputs": []
    },
    {
      "cell_type": "code",
      "source": [
        "stds = [33.295 + i*51.758 for i in range(4)]\n",
        "\n",
        "for amount in stds:\n",
        "    print(f'--- {amount} ---')\n",
        "    paid_eq_or_more = df_fare_survived[df_fare_survived['fare'] >= amount]\n",
        "    avg_survived = pd.to_numeric(paid_eq_or_more['survived']).mean()\n",
        "    print(f'average surival: {avg_survived}')\n"
      ],
      "metadata": {
        "id": "fHMPTEhZBW32"
      },
      "execution_count": null,
      "outputs": []
    },
    {
      "cell_type": "markdown",
      "source": [
        "### Tasks\n",
        "\n",
        "Below are a set of tasks which you should attempt to help familiarize yourself with pandas."
      ],
      "metadata": {
        "id": "W5iSrm6tCfPD"
      }
    },
    {
      "cell_type": "code",
      "source": [
        "df_recovery = df.copy()  # For restoring later"
      ],
      "metadata": {
        "id": "Kf_7Oe_4Q8LW"
      },
      "execution_count": null,
      "outputs": []
    },
    {
      "cell_type": "markdown",
      "source": [
        "1. How many firt class passengers were there that were younger than 18?"
      ],
      "metadata": {
        "id": "ngT2TlLqbfFL"
      }
    },
    {
      "cell_type": "code",
      "source": [
        "# Task 1"
      ],
      "metadata": {
        "id": "OuciC6WLCzW8"
      },
      "execution_count": null,
      "outputs": []
    },
    {
      "cell_type": "code",
      "source": [
        "#@title Solution to task 1\n",
        "\n",
        "len(df[ (df['age'] < 18) & (df['pclass'] == 1) ])"
      ],
      "metadata": {
        "cellView": "form",
        "id": "rt-o8jzVbryL"
      },
      "execution_count": null,
      "outputs": []
    },
    {
      "cell_type": "markdown",
      "source": [
        "2. Get some descriptive statistics for `parch` and `sibsp`"
      ],
      "metadata": {
        "id": "pX3PCTosC1xj"
      }
    },
    {
      "cell_type": "code",
      "source": [
        "# Task 2"
      ],
      "metadata": {
        "id": "i_7o7qXTQgCk"
      },
      "execution_count": null,
      "outputs": []
    },
    {
      "cell_type": "code",
      "source": [
        "#@title Solution to task 2\n",
        "\n",
        "df[['parch', 'sibsp']].describe()"
      ],
      "metadata": {
        "cellView": "form",
        "id": "eEBUWmlXdDWX"
      },
      "execution_count": null,
      "outputs": []
    },
    {
      "cell_type": "markdown",
      "source": [
        "3. It turns out that out dataset is taking up too much space. Convert \"female\" to \"F\" and \"male\" to \"M\" within the `sex` column."
      ],
      "metadata": {
        "id": "o155WHOzRvOJ"
      }
    },
    {
      "cell_type": "code",
      "source": [
        "# Task 3"
      ],
      "metadata": {
        "id": "AlUmXJ-SSJha"
      },
      "execution_count": null,
      "outputs": []
    },
    {
      "cell_type": "code",
      "source": [
        "#@title Solution to task 3\n",
        "\n",
        "def convert_sex(sex):\n",
        "    if sex == 'female':\n",
        "        return 'F'\n",
        "    elif sex == 'male':\n",
        "        return 'M'\n",
        "    return sex\n",
        "\n",
        "df['sex'] = df['sex'].apply(convert_sex)"
      ],
      "metadata": {
        "cellView": "form",
        "id": "glX09PC9d-3Z"
      },
      "execution_count": null,
      "outputs": []
    },
    {
      "cell_type": "markdown",
      "source": [
        "4. What is the average fare paid for people between ages  `[0, 18), [18, 25), [25,35), [35, )`?\n",
        "\n"
      ],
      "metadata": {
        "id": "4bz7OjLOSeOK"
      }
    },
    {
      "cell_type": "code",
      "source": [
        "# Task 4"
      ],
      "metadata": {
        "id": "lkfAG2Yua-vP"
      },
      "execution_count": null,
      "outputs": []
    },
    {
      "cell_type": "code",
      "source": [
        "# Restore\n",
        "df = df_recovery"
      ],
      "metadata": {
        "id": "UvVefl5Jj740"
      },
      "execution_count": null,
      "outputs": []
    },
    {
      "cell_type": "code",
      "source": [
        "#@title Solution to task 4\n",
        "\n",
        "# Create a list of \"ranges\" that we're interested in. I'm using 300 as an upper bound for the last one so that it includes everything else\n",
        "ranges = [(0, 18), (18, 25), (25, 35), (35, 300)]\n",
        "\n",
        "# Create a temporary list that contains each subset dataframe. Within the subset I'm renaming the column using .rename(i)\n",
        "temp = [df.loc[df['age'].isin(range(r[0], r[1] + 1)), 'fare'].rename(i) for i,r in enumerate(ranges)]\n",
        "\n",
        "# Create a concatenation of the list above. Finally rename the columns to give us something helpful to look at.\n",
        "# Otherwise the columns would still be named 0, 1, 2, 3\n",
        "concat = pd.concat(temp, axis=1).rename(columns={i: f'[{r[0]}, {r[1]})' for i, r in enumerate(ranges)})\n",
        "\n",
        "# Lastly you can just call the mean() over the newly created dataframe\n",
        "concat.mean()"
      ],
      "metadata": {
        "cellView": "form",
        "id": "QUJPnN1NUmIU"
      },
      "execution_count": null,
      "outputs": []
    },
    {
      "cell_type": "code",
      "source": [
        "import seaborn as sns"
      ],
      "metadata": {
        "id": "5Cj3piGWCzcw"
      },
      "execution_count": null,
      "outputs": []
    },
    {
      "cell_type": "code",
      "source": [
        "df_temp = df.copy()\n",
        "sex2int = {'female': 0, 'male': 1}\n",
        "survived2int = {'1': 1, '0': 0}\n",
        "\n",
        "df_temp['sex'] = df_temp['sex'].apply(lambda x: sex2int[x])\n",
        "df_temp['sex'] = pd.to_numeric(df_temp['sex'])\n",
        "df_temp['survived'] = df_temp['survived'].apply(lambda x: survived2int[x])\n",
        "df_temp['survived'] = pd.to_numeric(df_temp['survived'])\n",
        "# df_temp.dtypes\n",
        "sns.pairplot(df_temp, vars=['pclass', 'age', 'parch', 'sibsp', 'fare', 'sex'], hue='survived')"
      ],
      "metadata": {
        "id": "5cTAwjZJHgAk"
      },
      "execution_count": null,
      "outputs": []
    },
    {
      "cell_type": "code",
      "source": [
        "df_new = df.copy()\n",
        "df_new['pclass'] = df_new['pclass'].astype('category')  # Convert to a category\n",
        "sns.catplot(data=df_new, x=\"age\", y=\"pclass\", kind=\"box\", height=8)"
      ],
      "metadata": {
        "id": "5uWS8oTZHh3j"
      },
      "execution_count": null,
      "outputs": []
    },
    {
      "cell_type": "code",
      "source": [
        "sns.catplot(\n",
        "    data=df_new, x=\"age\", y=\"pclass\", hue=\"sex\",\n",
        "    kind=\"violin\", bw=.25, cut=0, split=True, height=8\n",
        ")"
      ],
      "metadata": {
        "id": "f81Yy9LWl3Iq"
      },
      "execution_count": null,
      "outputs": []
    },
    {
      "cell_type": "code",
      "source": [
        "df_new['survived'] = pd.to_numeric(df_new['survived'])\n",
        "\n",
        "sns.catplot(\n",
        "    data=df_new, x=\"pclass\", y=\"survived\", col=\"sex\",\n",
        "    kind=\"bar\", height=8, aspect=0.6\n",
        ")"
      ],
      "metadata": {
        "id": "YVQqLy35pM5E"
      },
      "execution_count": null,
      "outputs": []
    },
    {
      "cell_type": "code",
      "source": [
        "sns.catplot(data=df_new, x=\"age\", y=\"pclass\", kind=\"violin\", color=\".9\", inner=None, height=8)\n",
        "sns.swarmplot(data=df_new, x=\"age\", y=\"pclass\", size=4)"
      ],
      "metadata": {
        "id": "KnBFT3OkpZys"
      },
      "execution_count": null,
      "outputs": []
    },
    {
      "cell_type": "code",
      "source": [
        "sns.violinplot(data=df_temp, x='pclass', y='age', hue='survived', height=8,  split=True)"
      ],
      "metadata": {
        "id": "UfiL6J4TzpYV"
      },
      "execution_count": null,
      "outputs": []
    },
    {
      "cell_type": "markdown",
      "source": [
        "### Tasks\n",
        "\n",
        "Take a look at the different [plotting options](https://seaborn.pydata.org/api.html) under Seaborn's API. Try to plot some different features"
      ],
      "metadata": {
        "id": "HuM6w6a3jghz"
      }
    }
  ]
}