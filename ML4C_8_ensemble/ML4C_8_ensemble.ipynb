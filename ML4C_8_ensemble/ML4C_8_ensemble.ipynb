{
  "nbformat": 4,
  "nbformat_minor": 0,
  "metadata": {
    "colab": {
      "provenance": []
    },
    "kernelspec": {
      "name": "python3",
      "display_name": "Python 3"
    },
    "language_info": {
      "name": "python"
    }
  },
  "cells": [
    {
      "cell_type": "code",
      "execution_count": null,
      "metadata": {
        "id": "rW1ZMCjA6nI6"
      },
      "outputs": [],
      "source": [
        "from sklearn.datasets import load_iris\n",
        "from sklearn.ensemble import AdaBoostClassifier\n",
        "from sklearn.model_selection import train_test_split\n",
        "import pandas as pd\n"
      ]
    },
    {
      "cell_type": "code",
      "source": [
        "df=load_iris(as_frame=True)\n",
        "train = df['data']\n",
        "target = df['target']\n",
        "mapping = {i:v for i,v in enumerate(['Setosa', 'Versicolour', 'Virginica'])}\n",
        "target_name = target.map(mapping)\n",
        "df = pd.concat((train, target_name), axis=1)\n",
        "df.head()"
      ],
      "metadata": {
        "id": "zRcv-sv-7ZDp"
      },
      "execution_count": null,
      "outputs": []
    },
    {
      "cell_type": "code",
      "source": [
        "X = df.drop('target', axis=1).to_numpy()\n",
        "inverse_map = {v:k for k,v in mapping.items()}\n",
        "y = df['target'].map(inverse_map).to_numpy().astype(int)\n",
        "X_train, X_test, y_train, y_test = train_test_split(X, y, test_size=.2, random_state=0xC0FFEE)"
      ],
      "metadata": {
        "id": "jaeQUXwZ6_nS"
      },
      "execution_count": null,
      "outputs": []
    },
    {
      "cell_type": "code",
      "source": [
        "print(X_train[:5])\n",
        "print(y_train[:5])"
      ],
      "metadata": {
        "id": "js-lfUCd7WAY"
      },
      "execution_count": null,
      "outputs": []
    },
    {
      "cell_type": "code",
      "source": [
        "############\n",
        "# AdaBoost #\n",
        "############\n",
        "\n",
        "# Train a bunch of weak learners - default is decision tree of depth 1, e.g. stump\n",
        "clf = AdaBoostClassifier(n_estimators=100)\n",
        "clf.fit(X_train, y_train)"
      ],
      "metadata": {
        "id": "E5dU0HAj7eap"
      },
      "execution_count": null,
      "outputs": []
    },
    {
      "cell_type": "code",
      "source": [
        "for i in range(5):\n",
        "  accuracy = clf.estimators_[i].score(X_test, y_test)\n",
        "  weight = clf.estimator_weights_[i]\n",
        "  print(f'accuracy of stump {i}: {accuracy}, weight: {weight}')"
      ],
      "metadata": {
        "id": "Zfj-kEvK7gqZ"
      },
      "execution_count": null,
      "outputs": []
    },
    {
      "cell_type": "code",
      "source": [
        "print('overall score:', clf.score(X_test, y_test))"
      ],
      "metadata": {
        "id": "9AIlHOAS_Sgy"
      },
      "execution_count": null,
      "outputs": []
    },
    {
      "cell_type": "code",
      "source": [
        "###########\n",
        "# Bagging #\n",
        "###########\n",
        "from sklearn.ensemble import BaggingClassifier\n",
        "from sklearn.neighbors import KNeighborsClassifier\n",
        "bagging = BaggingClassifier(KNeighborsClassifier(),\n",
        "                         max_samples=0.5, max_features=0.5)\n",
        "bagging.fit(X_train, y_train)"
      ],
      "metadata": {
        "id": "dn6surQQADYC"
      },
      "execution_count": null,
      "outputs": []
    },
    {
      "cell_type": "code",
      "source": [
        "for i in range(5):\n",
        "  features = bagging.estimators_features_[i]\n",
        "  cols = list(df.columns[features])\n",
        "  print(f'estimator {i} is using features {cols}')\n",
        "\n",
        "print('\\noverall accuracy:', bagging.score(X_test, y_test))"
      ],
      "metadata": {
        "id": "x6jTF5CQDfMy"
      },
      "execution_count": null,
      "outputs": []
    },
    {
      "cell_type": "code",
      "source": [
        "#################\n",
        "# Random forest #\n",
        "#################\n",
        "\n",
        "from sklearn.ensemble import RandomForestClassifier\n",
        "clf = RandomForestClassifier(n_estimators=100)\n",
        "clf.fit(X_train, y_train)"
      ],
      "metadata": {
        "id": "dxbCgnGqDhfJ"
      },
      "execution_count": null,
      "outputs": []
    },
    {
      "cell_type": "code",
      "source": [
        "for i in range(5):\n",
        "  accuracy = clf.estimators_[i].score(X_test, y_test)\n",
        "  print(f'estimator {i} has accuracy: {accuracy}')\n",
        "\n",
        "print('\\nOverall accuracy:', clf.score(X_test, y_test))"
      ],
      "metadata": {
        "id": "aOTGgJ55GphS"
      },
      "execution_count": null,
      "outputs": []
    },
    {
      "cell_type": "code",
      "source": [
        "##########################\n",
        "# Gradient tree boosting #\n",
        "##########################\n",
        "from sklearn.ensemble import GradientBoostingClassifier\n",
        "clf = GradientBoostingClassifier(n_estimators=100, max_depth=1, random_state=0xC0FFEE)\n",
        "clf.fit(X_train, y_train)"
      ],
      "metadata": {
        "id": "61QTpbXHGvI6"
      },
      "execution_count": null,
      "outputs": []
    },
    {
      "cell_type": "code",
      "source": [
        "print('estimators[0]', clf.estimators_[0])\n",
        "print('\\nOverall_score',clf.score(X_test, y_test))"
      ],
      "metadata": {
        "id": "nfah1RH1Iyw7"
      },
      "execution_count": null,
      "outputs": []
    },
    {
      "cell_type": "code",
      "source": [
        "import numpy as np\n",
        "SAMPLE_NUM = 5\n",
        "sample_X = X_test[SAMPLE_NUM].reshape(1,-1)\n",
        "sample_y = y_test[SAMPLE_NUM]\n",
        "preds = []\n",
        "for i in range(3): # n_classes\n",
        "  pred = clf.estimators_[SAMPLE_NUM, i].predict(sample_X)\n",
        "  preds.append(pred)\n",
        "\n",
        "print('predictions:', preds)\n",
        "print('argmax preds', np.argmax(preds))\n",
        "print('true y:', sample_y)"
      ],
      "metadata": {
        "id": "0kCYa-cZI2Rj"
      },
      "execution_count": null,
      "outputs": []
    },
    {
      "cell_type": "code",
      "source": [
        "###########\n",
        "# XGBoost #\n",
        "###########\n",
        "import xgboost as xgb"
      ],
      "metadata": {
        "id": "1318NulCJ2hq"
      },
      "execution_count": null,
      "outputs": []
    },
    {
      "cell_type": "code",
      "source": [
        "clf = xgb.XGBClassifier()\n",
        "clf"
      ],
      "metadata": {
        "id": "pHORdMxLLlJD"
      },
      "execution_count": null,
      "outputs": []
    },
    {
      "cell_type": "code",
      "source": [
        "clf.fit(X_train, y_train)"
      ],
      "metadata": {
        "id": "_tuMdhdMMAr7"
      },
      "execution_count": null,
      "outputs": []
    },
    {
      "cell_type": "code",
      "source": [
        "clf.score(X_test, y_test)"
      ],
      "metadata": {
        "id": "vTm0kjR6ME85"
      },
      "execution_count": null,
      "outputs": []
    },
    {
      "cell_type": "code",
      "source": [
        "param = {\n",
        "    'max_depth': 3,\n",
        "    'eta': 0.3,  \n",
        "    'objective': 'multi:softprob',  \n",
        "    'num_class': 3} \n",
        "\n",
        "dtrain = xgb.DMatrix(X_train, label=y_train)\n",
        "dtest = xgb.DMatrix(X_test, label=y_test)\n",
        "\n",
        "num_rounds = 10\n",
        "clf = xgb.train(param, dtrain, num_rounds)"
      ],
      "metadata": {
        "id": "njmvuZGtMLD8"
      },
      "execution_count": null,
      "outputs": []
    },
    {
      "cell_type": "code",
      "source": [
        "y_pred = np.argmax(clf.predict(dtest), axis=1)\n",
        "np.mean(y_pred==y_test)"
      ],
      "metadata": {
        "id": "ZAaKAiwWNKYm"
      },
      "execution_count": null,
      "outputs": []
    },
    {
      "cell_type": "code",
      "source": [
        "import matplotlib.pyplot as plt\n",
        "xgb.plot_tree(clf, num_trees=1)\n",
        "\n",
        "fig = plt.gcf()\n",
        "fig.set_size_inches(12, 10)\n",
        "plt.show()"
      ],
      "metadata": {
        "id": "Z9A0OeAoNVcT"
      },
      "execution_count": null,
      "outputs": []
    },
    {
      "cell_type": "code",
      "source": [
        "from xgboost import plot_importance\n",
        "fig, ax = plt.subplots(1,1, figsize=(12,10))\n",
        "plot_importance(clf, ax=ax)\n",
        "features = [name for name in list(df.columns) if name != 'target']\n",
        "ax.set_yticklabels(features)\n",
        "plt.show()"
      ],
      "metadata": {
        "id": "9sWigmFVN8Jr"
      },
      "execution_count": null,
      "outputs": []
    },
    {
      "cell_type": "code",
      "source": [],
      "metadata": {
        "id": "HLhY63L_O_Sq"
      },
      "execution_count": null,
      "outputs": []
    }
  ]
}