{
 "cells": [
  {
   "cell_type": "code",
   "execution_count": 22,
   "metadata": {},
   "outputs": [],
   "source": [
    "import pandas as pd\n",
    "import io\n",
    "import requests\n",
    "import string\n",
    "import random\n",
    "\n",
    "import tensorflow as tf\n",
    "import torch\n",
    "import torch.nn as nn\n",
    "import torch.nn.functional as F\n",
    "from torch.nn.utils.rnn import pack_sequence, pack_padded_sequence, pad_sequence\n",
    "from torch.utils.data import Dataset, DataLoader, TensorDataset\n",
    "from pytorch_lightning.callbacks.progress import TQDMProgressBar, RichProgressBar\n",
    "from pytorch_lightning.callbacks.early_stopping import EarlyStopping\n",
    "import pytorch_lightning as pl\n"
   ]
  },
  {
   "cell_type": "markdown",
   "metadata": {},
   "source": [
    "In this tutorial you'll look at building an encoder and a decoder from scratch. Specifically you'll be learning how to generate names. Generating names requires an understanding of what's in a name which is where the encoder comes in. The encoder for us will look at forming a probability distribution over characters. The decoder can then begin generating characters based on what was learned from the encoder."
   ]
  },
  {
   "cell_type": "code",
   "execution_count": 23,
   "metadata": {},
   "outputs": [
    {
     "data": {
      "text/html": [
       "<div>\n",
       "<style scoped>\n",
       "    .dataframe tbody tr th:only-of-type {\n",
       "        vertical-align: middle;\n",
       "    }\n",
       "\n",
       "    .dataframe tbody tr th {\n",
       "        vertical-align: top;\n",
       "    }\n",
       "\n",
       "    .dataframe thead th {\n",
       "        text-align: right;\n",
       "    }\n",
       "</style>\n",
       "<table border=\"1\" class=\"dataframe\">\n",
       "  <thead>\n",
       "    <tr style=\"text-align: right;\">\n",
       "      <th></th>\n",
       "      <th>year</th>\n",
       "      <th>name</th>\n",
       "      <th>percent</th>\n",
       "      <th>sex</th>\n",
       "    </tr>\n",
       "  </thead>\n",
       "  <tbody>\n",
       "    <tr>\n",
       "      <th>0</th>\n",
       "      <td>1880</td>\n",
       "      <td>John</td>\n",
       "      <td>0.081541</td>\n",
       "      <td>boy</td>\n",
       "    </tr>\n",
       "    <tr>\n",
       "      <th>1</th>\n",
       "      <td>1880</td>\n",
       "      <td>William</td>\n",
       "      <td>0.080511</td>\n",
       "      <td>boy</td>\n",
       "    </tr>\n",
       "    <tr>\n",
       "      <th>2</th>\n",
       "      <td>1880</td>\n",
       "      <td>James</td>\n",
       "      <td>0.050057</td>\n",
       "      <td>boy</td>\n",
       "    </tr>\n",
       "    <tr>\n",
       "      <th>3</th>\n",
       "      <td>1880</td>\n",
       "      <td>Charles</td>\n",
       "      <td>0.045167</td>\n",
       "      <td>boy</td>\n",
       "    </tr>\n",
       "    <tr>\n",
       "      <th>4</th>\n",
       "      <td>1880</td>\n",
       "      <td>George</td>\n",
       "      <td>0.043292</td>\n",
       "      <td>boy</td>\n",
       "    </tr>\n",
       "  </tbody>\n",
       "</table>\n",
       "</div>"
      ],
      "text/plain": [
       "   year     name   percent  sex\n",
       "0  1880     John  0.081541  boy\n",
       "1  1880  William  0.080511  boy\n",
       "2  1880    James  0.050057  boy\n",
       "3  1880  Charles  0.045167  boy\n",
       "4  1880   George  0.043292  boy"
      ]
     },
     "execution_count": 23,
     "metadata": {},
     "output_type": "execute_result"
    }
   ],
   "source": [
    "# First download a list of baby names\n",
    "url = 'https://raw.githubusercontent.com/hadley/data-baby-names/master/baby-names.csv'\n",
    "content = requests.get(url).content\n",
    "df = pd.read_csv(io.StringIO(content.decode('utf-8')))\n",
    "df.head()"
   ]
  },
  {
   "cell_type": "code",
   "execution_count": 24,
   "metadata": {},
   "outputs": [
    {
     "data": {
      "text/html": [
       "<div>\n",
       "<style scoped>\n",
       "    .dataframe tbody tr th:only-of-type {\n",
       "        vertical-align: middle;\n",
       "    }\n",
       "\n",
       "    .dataframe tbody tr th {\n",
       "        vertical-align: top;\n",
       "    }\n",
       "\n",
       "    .dataframe thead th {\n",
       "        text-align: right;\n",
       "    }\n",
       "</style>\n",
       "<table border=\"1\" class=\"dataframe\">\n",
       "  <thead>\n",
       "    <tr style=\"text-align: right;\">\n",
       "      <th></th>\n",
       "      <th>name</th>\n",
       "      <th>sex</th>\n",
       "    </tr>\n",
       "  </thead>\n",
       "  <tbody>\n",
       "    <tr>\n",
       "      <th>0</th>\n",
       "      <td>John</td>\n",
       "      <td>boy</td>\n",
       "    </tr>\n",
       "    <tr>\n",
       "      <th>1</th>\n",
       "      <td>William</td>\n",
       "      <td>boy</td>\n",
       "    </tr>\n",
       "    <tr>\n",
       "      <th>2</th>\n",
       "      <td>James</td>\n",
       "      <td>boy</td>\n",
       "    </tr>\n",
       "    <tr>\n",
       "      <th>3</th>\n",
       "      <td>Charles</td>\n",
       "      <td>boy</td>\n",
       "    </tr>\n",
       "    <tr>\n",
       "      <th>4</th>\n",
       "      <td>George</td>\n",
       "      <td>boy</td>\n",
       "    </tr>\n",
       "  </tbody>\n",
       "</table>\n",
       "</div>"
      ],
      "text/plain": [
       "      name  sex\n",
       "0     John  boy\n",
       "1  William  boy\n",
       "2    James  boy\n",
       "3  Charles  boy\n",
       "4   George  boy"
      ]
     },
     "execution_count": 24,
     "metadata": {},
     "output_type": "execute_result"
    }
   ],
   "source": [
    "df = df[['name', 'sex']].drop_duplicates().reset_index(drop=True)\n",
    "df.head()"
   ]
  },
  {
   "cell_type": "code",
   "execution_count": 25,
   "metadata": {},
   "outputs": [
    {
     "name": "stdout",
     "output_type": "stream",
     "text": [
      "girl    4018\n",
      "boy     3437\n",
      "Name: sex, dtype: int64\n"
     ]
    }
   ],
   "source": [
    "print(df['sex'].value_counts())\n"
   ]
  },
  {
   "cell_type": "code",
   "execution_count": 26,
   "metadata": {},
   "outputs": [
    {
     "name": "stdout",
     "output_type": "stream",
     "text": [
      "longest boy name: Christopher\n",
      "shortest boy name: Ed\n",
      "longest girl name: Margueritta\n",
      "shortest girl name: Jo\n"
     ]
    }
   ],
   "source": [
    "longest_boy_idx = df[df['sex']=='boy']['name'].str.len().idxmax()\n",
    "shortest_boy_idx = df[df['sex']=='boy']['name'].str.len().idxmin()\n",
    "longest_girl_idx = df[df['sex']=='girl']['name'].str.len().idxmax()\n",
    "shortest_girl_idx = df[df['sex']=='girl']['name'].str.len().idxmin()\n",
    "\n",
    "print(f'longest boy name: {df[\"name\"].iloc[longest_boy_idx]}')\n",
    "print(f'shortest boy name: {df[\"name\"].iloc[shortest_boy_idx]}')\n",
    "print(f'longest girl name: {df[\"name\"].iloc[longest_girl_idx]}')\n",
    "print(f'shortest girl name: {df[\"name\"].iloc[shortest_girl_idx]}')"
   ]
  },
  {
   "cell_type": "markdown",
   "metadata": {},
   "source": [
    "Next create a mapping for character -> idx and idx -> character"
   ]
  },
  {
   "cell_type": "code",
   "execution_count": 27,
   "metadata": {},
   "outputs": [
    {
     "name": "stdout",
     "output_type": "stream",
     "text": [
      "0\n",
      "<pad>\n",
      "2\n"
     ]
    }
   ],
   "source": [
    "chars = ['<pad>'] + ['<sos>'] + list(string.ascii_lowercase) + ['<eos>']\n",
    "n_chars = len(chars)\n",
    "char2idx = {char: idx for idx,char in enumerate(chars)}\n",
    "idx2char = {idx: char for char,idx in char2idx.items()}\n",
    "\n",
    "print(char2idx['<pad>'])\n",
    "print(idx2char[0])\n",
    "\n",
    "print(char2idx['a'])"
   ]
  },
  {
   "cell_type": "markdown",
   "metadata": {},
   "source": [
    "We can now create a one-hot vector to represent the character."
   ]
  },
  {
   "cell_type": "code",
   "execution_count": 28,
   "metadata": {},
   "outputs": [
    {
     "data": {
      "text/plain": [
       "tensor([[0., 0., 0., 0., 1., 0., 0., 0., 0., 0., 0., 0., 0., 0., 0., 0., 0., 0.,\n",
       "         0., 0., 0., 0., 0., 0., 0., 0., 0., 0., 0.]])"
      ]
     },
     "execution_count": 28,
     "metadata": {},
     "output_type": "execute_result"
    }
   ],
   "source": [
    "def char_to_tensor(char: str) -> torch.Tensor:\n",
    "    \"\"\"\n",
    "    Take a character and perform a one-hot encoding in the form of a tensor\n",
    "    \"\"\"\n",
    "    ret = torch.zeros(1, n_chars)\n",
    "    ret[0][char2idx[char]] = 1\n",
    "    return ret\n",
    "\n",
    "char_to_tensor('c')\n"
   ]
  },
  {
   "cell_type": "code",
   "execution_count": 29,
   "metadata": {},
   "outputs": [
    {
     "name": "stdout",
     "output_type": "stream",
     "text": [
      "tensor([[[0., 1., 0., 0., 0., 0., 0., 0., 0., 0., 0., 0., 0., 0., 0., 0., 0.,\n",
      "          0., 0., 0., 0., 0., 0., 0., 0., 0., 0., 0., 0.]],\n",
      "\n",
      "        [[0., 0., 1., 0., 0., 0., 0., 0., 0., 0., 0., 0., 0., 0., 0., 0., 0.,\n",
      "          0., 0., 0., 0., 0., 0., 0., 0., 0., 0., 0., 0.]],\n",
      "\n",
      "        [[0., 0., 0., 1., 0., 0., 0., 0., 0., 0., 0., 0., 0., 0., 0., 0., 0.,\n",
      "          0., 0., 0., 0., 0., 0., 0., 0., 0., 0., 0., 0.]],\n",
      "\n",
      "        [[0., 0., 0., 0., 0., 0., 0., 0., 0., 0., 0., 0., 0., 0., 0., 0., 0.,\n",
      "          0., 0., 0., 0., 0., 0., 0., 0., 0., 0., 0., 1.]]])\n",
      "torch.Size([4, 1, 29])\n"
     ]
    }
   ],
   "source": [
    "def name_to_tensor(name: str, insert_toks: bool=False, max_len: int=None) -> torch.Tensor:\n",
    "    if insert_toks:\n",
    "        # Add the <sos> and <eos> tokens\n",
    "        ret = torch.zeros(len(name) + 2, 1, n_chars)\n",
    "        name = ['<sos>'] + list(name) + ['<eos>']\n",
    "    else:\n",
    "        ret = torch.zeros(len(name), 1, n_chars)\n",
    "        name = list(name)\n",
    "    \n",
    "    # If there is a max_len set, pad to it\n",
    "    if max_len is not None:\n",
    "        ret = torch.zeros(max_len, 1, n_chars)\n",
    "        name = name + ['<pad>']*(max_len - len(name))\n",
    "\n",
    "    for i, char in enumerate(name):\n",
    "        ret[i] = char_to_tensor(char)\n",
    "    return ret\n",
    "\n",
    "name_tensor = name_to_tensor('ab', insert_toks=True)\n",
    "print(name_tensor)\n",
    "print(name_tensor.shape)"
   ]
  },
  {
   "cell_type": "markdown",
   "metadata": {},
   "source": [
    "Next we can tokenize the names and insert the beginning and end token as well."
   ]
  },
  {
   "cell_type": "code",
   "execution_count": 30,
   "metadata": {},
   "outputs": [
    {
     "data": {
      "text/plain": [
       "13"
      ]
     },
     "execution_count": 30,
     "metadata": {},
     "output_type": "execute_result"
    }
   ],
   "source": [
    "def get_tokenized_names(df: pd.DataFrame):\n",
    "    names = df['name']\n",
    "    ret = []\n",
    "    for name in names:\n",
    "        arr = ['<sos>'] + list(name.lower()) + ['<eos>']\n",
    "        ret.append(arr)\n",
    "    return ret\n",
    "\n",
    "tokenized_names = get_tokenized_names(df)\n",
    "max_len = max(len(name) for name in tokenized_names)\n",
    "max_len"
   ]
  },
  {
   "cell_type": "markdown",
   "metadata": {},
   "source": [
    "Split into a train/val/test set."
   ]
  },
  {
   "cell_type": "code",
   "execution_count": 31,
   "metadata": {},
   "outputs": [],
   "source": [
    "random.seed(0xC0FFEE)\n",
    "\n",
    "def get_train_val_test(tokenized_names, train_percent, val_percent, test_percent):    \n",
    "    names = random.sample(tokenized_names, len(tokenized_names))\n",
    "    num_train = int(len(names) * train_percent)\n",
    "    num_val = int(len(names) * val_percent)\n",
    "\n",
    "    train_names = names[0:num_train]\n",
    "    val_names = names[num_train:num_train + num_val]\n",
    "    test_names = names[num_train + num_val:]\n",
    "\n",
    "    return train_names, val_names, test_names\n",
    "\n",
    "train, val, test = get_train_val_test(tokenized_names, 0.85, 0.10, 0.05)\n"
   ]
  },
  {
   "cell_type": "markdown",
   "metadata": {},
   "source": [
    "Next we can pad out the data to fixed length for our encoder and create a training pair of `(window, next_char)`."
   ]
  },
  {
   "cell_type": "code",
   "execution_count": 32,
   "metadata": {},
   "outputs": [],
   "source": [
    "def samples_to_padded_sequences(samples: list[list[str]]):\n",
    "    padded = []\n",
    "    # Each sample is a name\n",
    "    for sample in samples:\n",
    "        # Make the sliding window\n",
    "        for idx in range(len(sample) - 1):\n",
    "            window = sample[:idx + 1]\n",
    "            next_char = sample[idx + 1]\n",
    "            padding = ['<pad>'] * (max_len - len(window))\n",
    "            padded_seq = window + padding\n",
    "            xy = [padded_seq, next_char]\n",
    "            padded.append(xy)\n",
    "    return padded\n",
    "\n",
    "def padded_sequence_to_one_hot(padded_seq: list[tuple[list[int], int]]):\n",
    "    x, y = [], []\n",
    "    for ps in padded_seq:\n",
    "        window = ps[0]\n",
    "        next_char = ps[1]\n",
    "        \n",
    "        ret_window = torch.cat([char_to_tensor(char) for char in window]).unsqueeze(0)\n",
    "        ret_char = char2idx[next_char]\n",
    "        x.append(ret_window)\n",
    "        y.append(ret_char)\n",
    "    return (torch.cat(x), torch.tensor(y).reshape(-1, 1))\n"
   ]
  },
  {
   "cell_type": "markdown",
   "metadata": {},
   "source": [
    "Here's an example of the first 10 entries in the training set. Notice these are a sliding window over the name `antonette`. "
   ]
  },
  {
   "cell_type": "code",
   "execution_count": 33,
   "metadata": {},
   "outputs": [
    {
     "name": "stdout",
     "output_type": "stream",
     "text": [
      "[['<sos>', '<pad>', '<pad>', '<pad>', '<pad>', '<pad>', '<pad>', '<pad>', '<pad>', '<pad>', '<pad>', '<pad>', '<pad>'], 'a']\n",
      "[['<sos>', 'a', '<pad>', '<pad>', '<pad>', '<pad>', '<pad>', '<pad>', '<pad>', '<pad>', '<pad>', '<pad>', '<pad>'], 'n']\n",
      "[['<sos>', 'a', 'n', '<pad>', '<pad>', '<pad>', '<pad>', '<pad>', '<pad>', '<pad>', '<pad>', '<pad>', '<pad>'], 't']\n",
      "[['<sos>', 'a', 'n', 't', '<pad>', '<pad>', '<pad>', '<pad>', '<pad>', '<pad>', '<pad>', '<pad>', '<pad>'], 'o']\n",
      "[['<sos>', 'a', 'n', 't', 'o', '<pad>', '<pad>', '<pad>', '<pad>', '<pad>', '<pad>', '<pad>', '<pad>'], 'n']\n",
      "[['<sos>', 'a', 'n', 't', 'o', 'n', '<pad>', '<pad>', '<pad>', '<pad>', '<pad>', '<pad>', '<pad>'], 'e']\n",
      "[['<sos>', 'a', 'n', 't', 'o', 'n', 'e', '<pad>', '<pad>', '<pad>', '<pad>', '<pad>', '<pad>'], 't']\n",
      "[['<sos>', 'a', 'n', 't', 'o', 'n', 'e', 't', '<pad>', '<pad>', '<pad>', '<pad>', '<pad>'], 't']\n",
      "[['<sos>', 'a', 'n', 't', 'o', 'n', 'e', 't', 't', '<pad>', '<pad>', '<pad>', '<pad>'], 'e']\n",
      "[['<sos>', 'a', 'n', 't', 'o', 'n', 'e', 't', 't', 'e', '<pad>', '<pad>', '<pad>'], '<eos>']\n"
     ]
    }
   ],
   "source": [
    "rt = samples_to_padded_sequences(train)\n",
    "for e in rt[:10]:\n",
    "    print(e)"
   ]
  },
  {
   "cell_type": "code",
   "execution_count": 34,
   "metadata": {},
   "outputs": [
    {
     "name": "stdout",
     "output_type": "stream",
     "text": [
      "train shape torch.Size([43626, 13, 29])\n",
      "val shape torch.Size([5150, 13, 29])\n",
      "test shape torch.Size([2618, 13, 29])\n"
     ]
    }
   ],
   "source": [
    "train_x, train_y = padded_sequence_to_one_hot(samples_to_padded_sequences(train))\n",
    "val_x, val_y = padded_sequence_to_one_hot(samples_to_padded_sequences(val))\n",
    "test_x, test_y = padded_sequence_to_one_hot(samples_to_padded_sequences(test))\n",
    "\n",
    "print('train shape', train_x.shape)\n",
    "print('val shape', val_x.shape)\n",
    "print('test shape', test_x.shape)\n"
   ]
  },
  {
   "cell_type": "code",
   "execution_count": 35,
   "metadata": {},
   "outputs": [],
   "source": [
    "def get_dataloader(x, y, batch_size: int, shuffle: bool):\n",
    "    dataset = TensorDataset(x, y)\n",
    "    return DataLoader(dataset, batch_size=batch_size, shuffle=shuffle)\n",
    "\n",
    "train_dataloader = get_dataloader(train_x, train_y, 1024, True)\n",
    "val_dataloader   = get_dataloader(val_x, val_y, 256, False)\n",
    "test_dataloader  = get_dataloader(test_x, test_y, 128, False)"
   ]
  },
  {
   "cell_type": "markdown",
   "metadata": {},
   "source": [
    "We're going to use our model to predict one character at a time. Given some partial sequence of characters, predict the next one. Take for example the name \"Alex\". This will become<br>\n",
    "`['<sos>', 'a', 'l', 'e', 'x', '<eos>']`\n",
    "\n",
    "But when we train the model we're training on partial sequences to predict the next character like so:\n",
    "\n",
    "| i | input (partial seq)                 | output (next char) |\n",
    "|---|-------------------------------------|--------------------|\n",
    "| 0 | ['\\<sos>']                          |  'a'               |\n",
    "| 1 | ['\\<sos>', 'a']                     |  'l'               |\n",
    "| 2 | ['\\<sos>', 'a', 'l']                |  'e'               |\n",
    "| 3 | ['\\<sos>', 'a', 'l', 'e']           |  'x'               |\n",
    "| 4 | ['\\<sos>', 'a', ''l', 'e', 'x']     |  '\\<eos>'          |\n",
    "\n",
    "The purpose of this is to learn the weights and ultimately a good representation of a name."
   ]
  },
  {
   "cell_type": "code",
   "execution_count": 36,
   "metadata": {},
   "outputs": [],
   "source": [
    "class RNNEncoder(nn.Module):\n",
    "    def __init__(self, input_size: int, hidden_size: int, output_size: int, num_layers: int = 1,\n",
    "                dropout: float = 0.0):\n",
    "        super().__init__()\n",
    "\n",
    "        self.rnn = nn.RNN(input_size, hidden_size, num_layers, dropout=dropout, bidirectional=True)\n",
    "        self.fc = nn.Linear(2 * hidden_size, output_size)\n",
    "    \n",
    "    def forward(self, seqs):\n",
    "        # [len, batch, n_chars]\n",
    "        _, h_n = self.rnn(seqs)\n",
    "        hidden_states = torch.cat((h_n[0], h_n[1]), dim=1)\n",
    "        return self.fc(hidden_states)"
   ]
  },
  {
   "cell_type": "code",
   "execution_count": 37,
   "metadata": {},
   "outputs": [
    {
     "name": "stdout",
     "output_type": "stream",
     "text": [
      "shape torch.Size([13, 1, 29])\n"
     ]
    },
    {
     "data": {
      "text/plain": [
       "tensor([[-0.0417, -0.0423, -0.0734, -0.0599, -0.0539,  0.0248,  0.0660, -0.0188,\n",
       "         -0.0803,  0.1022, -0.0965, -0.0967, -0.0425,  0.0490, -0.0951, -0.0396,\n",
       "         -0.0502,  0.1231, -0.1715, -0.1591, -0.0556,  0.0816, -0.1551,  0.0567,\n",
       "         -0.0513,  0.0775, -0.0314,  0.0020,  0.0731]],\n",
       "       grad_fn=<AddmmBackward0>)"
      ]
     },
     "execution_count": 37,
     "metadata": {},
     "output_type": "execute_result"
    }
   ],
   "source": [
    "encoder = RNNEncoder(n_chars, 128, n_chars)\n",
    "single_batch = train_x[0].unsqueeze(1)\n",
    "print('shape', single_batch.shape)\n",
    "encoder(single_batch)\n"
   ]
  },
  {
   "cell_type": "code",
   "execution_count": 38,
   "metadata": {},
   "outputs": [
    {
     "name": "stdout",
     "output_type": "stream",
     "text": [
      "device is cuda\n"
     ]
    }
   ],
   "source": [
    "class LitModel(pl.LightningModule):\n",
    "    def __init__(self, encoder: nn.Module, device='cuda'):\n",
    "        super().__init__()\n",
    "        self._device=device\n",
    "        self.encoder = encoder\n",
    "    \n",
    "    def _generic_step(self, batch, batch_idx):\n",
    "        x, y = batch\n",
    "        x = x.permute(1, 0, 2)\n",
    "        out = self.encoder(x)\n",
    "        loss = F.cross_entropy(out, y.squeeze(1))\n",
    "        return loss\n",
    "    \n",
    "    def forward(self, seq):\n",
    "        return self.encoder(seq.to(self._device))\n",
    "\n",
    "    def training_step(self, batch, batch_idx):\n",
    "        return self._generic_step(batch, batch_idx)\n",
    "    \n",
    "    def validation_step(self, batch, batch_idx):\n",
    "        loss = self._generic_step(batch, batch_idx)\n",
    "        self.log('val_loss', loss, prog_bar=True)\n",
    "        return loss\n",
    "\n",
    "    def configure_optimizers(self):\n",
    "        opt = torch.optim.Adam(self.encoder.parameters(), lr=2e-3)\n",
    "        return opt\n",
    "\n",
    "device='cuda' if torch.cuda.is_available() else 'cpu'\n",
    "print('device is', device)\n",
    "# device = 'cpu'\n"
   ]
  },
  {
   "cell_type": "code",
   "execution_count": 39,
   "metadata": {},
   "outputs": [
    {
     "name": "stderr",
     "output_type": "stream",
     "text": [
      "GPU available: True (cuda), used: True\n",
      "TPU available: False, using: 0 TPU cores\n",
      "IPU available: False, using: 0 IPUs\n",
      "HPU available: False, using: 0 HPUs\n",
      "LOCAL_RANK: 0 - CUDA_VISIBLE_DEVICES: [0]\n"
     ]
    },
    {
     "data": {
      "text/html": [
       "<pre style=\"white-space:pre;overflow-x:auto;line-height:normal;font-family:Menlo,'DejaVu Sans Mono',consolas,'Courier New',monospace\">┏━━━┳━━━━━━━━━┳━━━━━━━━━━━━┳━━━━━━━━┓\n",
       "┃<span style=\"color: #800080; text-decoration-color: #800080; font-weight: bold\">   </span>┃<span style=\"color: #800080; text-decoration-color: #800080; font-weight: bold\"> Name    </span>┃<span style=\"color: #800080; text-decoration-color: #800080; font-weight: bold\"> Type       </span>┃<span style=\"color: #800080; text-decoration-color: #800080; font-weight: bold\"> Params </span>┃\n",
       "┡━━━╇━━━━━━━━━╇━━━━━━━━━━━━╇━━━━━━━━┩\n",
       "│<span style=\"color: #7f7f7f; text-decoration-color: #7f7f7f\"> 0 </span>│ encoder │ RNNEncoder │  146 K │\n",
       "└───┴─────────┴────────────┴────────┘\n",
       "</pre>\n"
      ],
      "text/plain": [
       "┏━━━┳━━━━━━━━━┳━━━━━━━━━━━━┳━━━━━━━━┓\n",
       "┃\u001b[1;35m \u001b[0m\u001b[1;35m \u001b[0m\u001b[1;35m \u001b[0m┃\u001b[1;35m \u001b[0m\u001b[1;35mName   \u001b[0m\u001b[1;35m \u001b[0m┃\u001b[1;35m \u001b[0m\u001b[1;35mType      \u001b[0m\u001b[1;35m \u001b[0m┃\u001b[1;35m \u001b[0m\u001b[1;35mParams\u001b[0m\u001b[1;35m \u001b[0m┃\n",
       "┡━━━╇━━━━━━━━━╇━━━━━━━━━━━━╇━━━━━━━━┩\n",
       "│\u001b[2m \u001b[0m\u001b[2m0\u001b[0m\u001b[2m \u001b[0m│ encoder │ RNNEncoder │  146 K │\n",
       "└───┴─────────┴────────────┴────────┘\n"
      ]
     },
     "metadata": {},
     "output_type": "display_data"
    },
    {
     "data": {
      "text/html": [
       "<pre style=\"white-space:pre;overflow-x:auto;line-height:normal;font-family:Menlo,'DejaVu Sans Mono',consolas,'Courier New',monospace\"><span style=\"font-weight: bold\">Trainable params</span>: 146 K                                                                                            \n",
       "<span style=\"font-weight: bold\">Non-trainable params</span>: 0                                                                                            \n",
       "<span style=\"font-weight: bold\">Total params</span>: 146 K                                                                                                \n",
       "<span style=\"font-weight: bold\">Total estimated model params size (MB)</span>: 0                                                                          \n",
       "</pre>\n"
      ],
      "text/plain": [
       "\u001b[1mTrainable params\u001b[0m: 146 K                                                                                            \n",
       "\u001b[1mNon-trainable params\u001b[0m: 0                                                                                            \n",
       "\u001b[1mTotal params\u001b[0m: 146 K                                                                                                \n",
       "\u001b[1mTotal estimated model params size (MB)\u001b[0m: 0                                                                          \n"
      ]
     },
     "metadata": {},
     "output_type": "display_data"
    },
    {
     "data": {
      "application/vnd.jupyter.widget-view+json": {
       "model_id": "fde44abec99e418eaffa539f550d7e6c",
       "version_major": 2,
       "version_minor": 0
      },
      "text/plain": [
       "Output()"
      ]
     },
     "metadata": {},
     "output_type": "display_data"
    },
    {
     "data": {
      "text/html": [
       "<pre style=\"white-space:pre;overflow-x:auto;line-height:normal;font-family:Menlo,'DejaVu Sans Mono',consolas,'Courier New',monospace\">/opt/anaconda/v3/envs/py39/lib/python3.9/site-packages/pytorch_lightning/trainer/connectors/data_connector.py:236: \n",
       "PossibleUserWarning: The dataloader, val_dataloader 0, does not have many workers which may be a bottleneck. \n",
       "Consider increasing the value of the `num_workers` argument` (try 96 which is the number of cpus on this machine) \n",
       "in the `DataLoader` init to improve performance.\n",
       "  rank_zero_warn(\n",
       "</pre>\n"
      ],
      "text/plain": [
       "/opt/anaconda/v3/envs/py39/lib/python3.9/site-packages/pytorch_lightning/trainer/connectors/data_connector.py:236: \n",
       "PossibleUserWarning: The dataloader, val_dataloader 0, does not have many workers which may be a bottleneck. \n",
       "Consider increasing the value of the `num_workers` argument` (try 96 which is the number of cpus on this machine) \n",
       "in the `DataLoader` init to improve performance.\n",
       "  rank_zero_warn(\n"
      ]
     },
     "metadata": {},
     "output_type": "display_data"
    },
    {
     "data": {
      "text/html": [
       "<pre style=\"white-space:pre;overflow-x:auto;line-height:normal;font-family:Menlo,'DejaVu Sans Mono',consolas,'Courier New',monospace\">/opt/anaconda/v3/envs/py39/lib/python3.9/site-packages/pytorch_lightning/trainer/connectors/data_connector.py:236: \n",
       "PossibleUserWarning: The dataloader, train_dataloader, does not have many workers which may be a bottleneck. \n",
       "Consider increasing the value of the `num_workers` argument` (try 96 which is the number of cpus on this machine) \n",
       "in the `DataLoader` init to improve performance.\n",
       "  rank_zero_warn(\n",
       "</pre>\n"
      ],
      "text/plain": [
       "/opt/anaconda/v3/envs/py39/lib/python3.9/site-packages/pytorch_lightning/trainer/connectors/data_connector.py:236: \n",
       "PossibleUserWarning: The dataloader, train_dataloader, does not have many workers which may be a bottleneck. \n",
       "Consider increasing the value of the `num_workers` argument` (try 96 which is the number of cpus on this machine) \n",
       "in the `DataLoader` init to improve performance.\n",
       "  rank_zero_warn(\n"
      ]
     },
     "metadata": {},
     "output_type": "display_data"
    },
    {
     "data": {
      "text/html": [
       "<pre style=\"white-space:pre;overflow-x:auto;line-height:normal;font-family:Menlo,'DejaVu Sans Mono',consolas,'Courier New',monospace\"></pre>\n"
      ],
      "text/plain": []
     },
     "metadata": {},
     "output_type": "display_data"
    },
    {
     "data": {
      "text/html": [
       "<pre style=\"white-space:pre;overflow-x:auto;line-height:normal;font-family:Menlo,'DejaVu Sans Mono',consolas,'Courier New',monospace\">\n",
       "</pre>\n"
      ],
      "text/plain": [
       "\n"
      ]
     },
     "metadata": {},
     "output_type": "display_data"
    }
   ],
   "source": [
    "rnn_encoder = RNNEncoder(n_chars, 128, n_chars, num_layers=2).to(device)\n",
    "rnn_lit_model = LitModel(rnn_encoder)\n",
    "rnn_trainer = pl.Trainer(accelerator=device, max_epochs=100, log_every_n_steps=25,\n",
    "                     callbacks=[\n",
    "                        RichProgressBar(refresh_rate=50),\n",
    "                        EarlyStopping(monitor='val_loss', mode='min', patience=3)\n",
    "                     ])\n",
    "rnn_trainer.fit(rnn_lit_model, train_dataloader, val_dataloader)"
   ]
  },
  {
   "cell_type": "markdown",
   "metadata": {},
   "source": [
    "At this point the model has trained on quite a few names and has hopefully learned a bit about names. We can test this by seeing what letter the model thinks should come next for some sequence. Let's test this with the name `ryan`. I'm choosing this name because the dataset the names came from contains two names starting with `rya`. One is `ryan` and the other is `ryann`. So we can use it to see how confident the model is that the next letter should be `n`."
   ]
  },
  {
   "cell_type": "code",
   "execution_count": 75,
   "metadata": {},
   "outputs": [
    {
     "data": {
      "text/plain": [
       "(['n'], array([0.28105763], dtype=float32))"
      ]
     },
     "execution_count": 75,
     "metadata": {},
     "output_type": "execute_result"
    }
   ],
   "source": [
    "def pad_partial_name(partial_name: str, max_len: int):\n",
    "    partial_seq = ['<sos>'] + list(partial_name)\n",
    "    ret = torch.zeros(max_len, 1, n_chars)\n",
    "    partial_seq = partial_seq + ['<pad>']*(max_len - len(partial_seq))\n",
    "\n",
    "    for i, char in enumerate(partial_seq):\n",
    "        ret[i] = char_to_tensor(char)\n",
    "    return ret\n",
    "\n",
    "def predict_next_letter(partial_name: str, encoder: nn.Module, n=1) -> tuple[str, float]:\n",
    "    with torch.no_grad():\n",
    "        encoder.train(False)\n",
    "        name_tensor = pad_partial_name(partial_name, max_len)\n",
    "        out = F.softmax(encoder(name_tensor), dim=-1)\n",
    "        prob, idxs = torch.sort(out, descending=True)\n",
    "        prob = prob.cpu().numpy().flatten()[:n]\n",
    "        idxs = idxs.cpu().numpy().flatten()[:n]\n",
    "        # idxs = torch.argsort(out).cpu().numpy()[:n]\n",
    "        next_char = [idx2char[idx] for idx in idxs]\n",
    "        encoder.train(True)\n",
    "    return (next_char, prob)\n",
    "\n",
    "predict_next_letter('rya', rnn_lit_model.encoder)"
   ]
  },
  {
   "cell_type": "markdown",
   "metadata": {},
   "source": [
    "That worked pretty well. It thinks the most likely next letter is `n` with 28% probability. Next let's see how this compares to an LSTM."
   ]
  },
  {
   "cell_type": "code",
   "execution_count": 41,
   "metadata": {},
   "outputs": [],
   "source": [
    "class LSTMEncoder(nn.Module):\n",
    "    def __init__(self, input_size: int, hidden_size: int, output_size: int, num_layers: int = 1,\n",
    "                dropout: float = 0.0):\n",
    "        super().__init__()\n",
    "\n",
    "        self.lstm = nn.LSTM(input_size, hidden_size, num_layers, dropout=dropout, bidirectional=True)\n",
    "        self.fc = nn.Linear(2 * 2 * hidden_size * num_layers, output_size)\n",
    "    \n",
    "    def forward(self, seqs):\n",
    "        # [len, batch, n_chars]\n",
    "        # h_n is a tuple where each index is [2 * num_layers, batch, hidden_size]\n",
    "        _, h_n = self.lstm(seqs)\n",
    "        # Cat and permute. Cat will combine the tuple so it's [2 * num_layers, batch, hidden_size * 2]\n",
    "        # and permute will get it so batch is first [batch, 2*num_layers, hidden_size*2]\n",
    "        hidden_states = torch.cat((h_n[0], h_n[1]), dim=-1).permute(1, 0, 2)\n",
    "        # Flatten starting at the first index so we get [batch, 2*num_layers*2*hidden_size]\n",
    "        out = torch.flatten(hidden_states, start_dim=1)\n",
    "        return self.fc(out)"
   ]
  },
  {
   "cell_type": "code",
   "execution_count": 42,
   "metadata": {},
   "outputs": [
    {
     "name": "stdout",
     "output_type": "stream",
     "text": [
      "shape torch.Size([13, 1, 29])\n"
     ]
    },
    {
     "data": {
      "text/plain": [
       "tensor([[-0.0374,  0.0276,  0.0176,  0.0163,  0.0482, -0.0196, -0.0117,  0.0373,\n",
       "         -0.0335,  0.0311, -0.0508,  0.1083,  0.0243, -0.0579,  0.1008, -0.0215,\n",
       "         -0.0121, -0.0022, -0.0254,  0.0409, -0.0068, -0.0018, -0.1024,  0.0061,\n",
       "         -0.0293,  0.0791,  0.0374,  0.0848, -0.0277]],\n",
       "       grad_fn=<AddmmBackward0>)"
      ]
     },
     "execution_count": 42,
     "metadata": {},
     "output_type": "execute_result"
    }
   ],
   "source": [
    "encoder = LSTMEncoder(n_chars, 128, n_chars, num_layers=2)\n",
    "single_batch = train_x[0].unsqueeze(1)\n",
    "print('shape', single_batch.shape)\n",
    "encoder(single_batch)"
   ]
  },
  {
   "cell_type": "code",
   "execution_count": 43,
   "metadata": {},
   "outputs": [
    {
     "name": "stderr",
     "output_type": "stream",
     "text": [
      "GPU available: True (cuda), used: True\n",
      "TPU available: False, using: 0 TPU cores\n",
      "IPU available: False, using: 0 IPUs\n",
      "HPU available: False, using: 0 HPUs\n",
      "LOCAL_RANK: 0 - CUDA_VISIBLE_DEVICES: [0]\n"
     ]
    },
    {
     "data": {
      "text/html": [
       "<pre style=\"white-space:pre;overflow-x:auto;line-height:normal;font-family:Menlo,'DejaVu Sans Mono',consolas,'Courier New',monospace\">┏━━━┳━━━━━━━━━┳━━━━━━━━━━━━━┳━━━━━━━━┓\n",
       "┃<span style=\"color: #800080; text-decoration-color: #800080; font-weight: bold\">   </span>┃<span style=\"color: #800080; text-decoration-color: #800080; font-weight: bold\"> Name    </span>┃<span style=\"color: #800080; text-decoration-color: #800080; font-weight: bold\"> Type        </span>┃<span style=\"color: #800080; text-decoration-color: #800080; font-weight: bold\"> Params </span>┃\n",
       "┡━━━╇━━━━━━━━━╇━━━━━━━━━━━━━╇━━━━━━━━┩\n",
       "│<span style=\"color: #7f7f7f; text-decoration-color: #7f7f7f\"> 0 </span>│ encoder │ LSTMEncoder │  587 K │\n",
       "└───┴─────────┴─────────────┴────────┘\n",
       "</pre>\n"
      ],
      "text/plain": [
       "┏━━━┳━━━━━━━━━┳━━━━━━━━━━━━━┳━━━━━━━━┓\n",
       "┃\u001b[1;35m \u001b[0m\u001b[1;35m \u001b[0m\u001b[1;35m \u001b[0m┃\u001b[1;35m \u001b[0m\u001b[1;35mName   \u001b[0m\u001b[1;35m \u001b[0m┃\u001b[1;35m \u001b[0m\u001b[1;35mType       \u001b[0m\u001b[1;35m \u001b[0m┃\u001b[1;35m \u001b[0m\u001b[1;35mParams\u001b[0m\u001b[1;35m \u001b[0m┃\n",
       "┡━━━╇━━━━━━━━━╇━━━━━━━━━━━━━╇━━━━━━━━┩\n",
       "│\u001b[2m \u001b[0m\u001b[2m0\u001b[0m\u001b[2m \u001b[0m│ encoder │ LSTMEncoder │  587 K │\n",
       "└───┴─────────┴─────────────┴────────┘\n"
      ]
     },
     "metadata": {},
     "output_type": "display_data"
    },
    {
     "data": {
      "text/html": [
       "<pre style=\"white-space:pre;overflow-x:auto;line-height:normal;font-family:Menlo,'DejaVu Sans Mono',consolas,'Courier New',monospace\"><span style=\"font-weight: bold\">Trainable params</span>: 587 K                                                                                            \n",
       "<span style=\"font-weight: bold\">Non-trainable params</span>: 0                                                                                            \n",
       "<span style=\"font-weight: bold\">Total params</span>: 587 K                                                                                                \n",
       "<span style=\"font-weight: bold\">Total estimated model params size (MB)</span>: 2                                                                          \n",
       "</pre>\n"
      ],
      "text/plain": [
       "\u001b[1mTrainable params\u001b[0m: 587 K                                                                                            \n",
       "\u001b[1mNon-trainable params\u001b[0m: 0                                                                                            \n",
       "\u001b[1mTotal params\u001b[0m: 587 K                                                                                                \n",
       "\u001b[1mTotal estimated model params size (MB)\u001b[0m: 2                                                                          \n"
      ]
     },
     "metadata": {},
     "output_type": "display_data"
    },
    {
     "data": {
      "application/vnd.jupyter.widget-view+json": {
       "model_id": "1ed6e6adf8fe44cf88d077f8226fcb10",
       "version_major": 2,
       "version_minor": 0
      },
      "text/plain": [
       "Output()"
      ]
     },
     "metadata": {},
     "output_type": "display_data"
    },
    {
     "data": {
      "text/html": [
       "<pre style=\"white-space:pre;overflow-x:auto;line-height:normal;font-family:Menlo,'DejaVu Sans Mono',consolas,'Courier New',monospace\"></pre>\n"
      ],
      "text/plain": []
     },
     "metadata": {},
     "output_type": "display_data"
    },
    {
     "data": {
      "text/html": [
       "<pre style=\"white-space:pre;overflow-x:auto;line-height:normal;font-family:Menlo,'DejaVu Sans Mono',consolas,'Courier New',monospace\">\n",
       "</pre>\n"
      ],
      "text/plain": [
       "\n"
      ]
     },
     "metadata": {},
     "output_type": "display_data"
    }
   ],
   "source": [
    "lstm_encoder = LSTMEncoder(n_chars, 128, n_chars, num_layers=2).to(device)\n",
    "lstm_lit_model = LitModel(lstm_encoder)\n",
    "lstm_trainer = pl.Trainer(accelerator=device, max_epochs=100, log_every_n_steps=25,\n",
    "                     callbacks=[\n",
    "                        RichProgressBar(refresh_rate=50),\n",
    "                        EarlyStopping(monitor='val_loss', mode='min', patience=3)\n",
    "                     ])\n",
    "lstm_trainer.fit(lstm_lit_model, train_dataloader, val_dataloader)"
   ]
  },
  {
   "cell_type": "markdown",
   "metadata": {},
   "source": [
    "Now let's look at how the LSTM model compares when looking at the next letter for `rya`."
   ]
  },
  {
   "cell_type": "code",
   "execution_count": 76,
   "metadata": {},
   "outputs": [
    {
     "data": {
      "text/plain": [
       "(['n'], array([0.8853272], dtype=float32))"
      ]
     },
     "execution_count": 76,
     "metadata": {},
     "output_type": "execute_result"
    }
   ],
   "source": [
    "predict_next_letter('rya', lstm_lit_model.encoder)\n"
   ]
  },
  {
   "cell_type": "markdown",
   "metadata": {},
   "source": [
    "Try out some different architectures and see if you can reduce the loss. You can try adding dropout, an additional layer after the final hidden state, etc. You can also try reducing the learning rate over time. Now let's look at generating a name based on the model we trained. This is going to be done by using a decoder. Let's start with a greedy decoder."
   ]
  },
  {
   "cell_type": "code",
   "execution_count": 67,
   "metadata": {},
   "outputs": [
    {
     "data": {
      "text/plain": [
       "('alexandre', 0.00016087609665491233)"
      ]
     },
     "execution_count": 67,
     "metadata": {},
     "output_type": "execute_result"
    }
   ],
   "source": [
    "import math\n",
    "\n",
    "def greedy_decoder(encoder: nn.Module, max_len: int, partial_name=''):\n",
    "    ret = partial_name\n",
    "    curr_len = len(ret)\n",
    "    curr_tok = None\n",
    "    total_prob = 0\n",
    "    \n",
    "    while curr_tok != '<eos>' and curr_len < max_len:\n",
    "        curr_tok, prob = predict_next_letter(ret, encoder)\n",
    "        total_prob += math.log(prob)\n",
    "        if curr_tok != '<eos>':\n",
    "            ret += curr_tok\n",
    "    return ret, math.exp(total_prob)\n",
    "\n",
    "greedy_decoder(lstm_lit_model.encoder, max_len)"
   ]
  },
  {
   "cell_type": "markdown",
   "metadata": {},
   "source": [
    "So what does this mean? Does it mean that `alexandre` is the most probable name? No.\n",
    "This greedy decoder is a character level greedy decoder. This means that at each step it picks the most likely next character, e.g.\n",
    "\n",
    " 1\\. max `p(c | ['<sos>'])` = `a`\n",
    " \n",
    " 2\\. max `p(c | ['<sos>', 'a'])` = `l`\n",
    "<br>\n",
    "...\n",
    "\n",
    " 10\\. max `p(c | ['<sos>', 'a', 'l', 'e', 'x', 'a', 'n', 'd', 'r', 'e'])` = `'<eos>'`\n",
    "\n",
    "What we're generally looking for when decoding is the sequence that produces the highest probability. This probability might not be represented by the greedy decoder. Take for example this 2 sequence example:\n",
    "\n",
    "| sequence | probs  | overall prob  |\n",
    "|----------|--------|-------------- |\n",
    "| ['s', 'b', 'c'] | .3, .2, .2 | .012 |\n",
    "| ['a', 'b', 'c'] | .2, .8, .9 | .144 |\n",
    "\n",
    "Because in this example 's' has a higher probability of being selected, the greedy decoder would go down that path and choose `sbc` even though the overall probability of `abc` is higher. Okay great. So all we need to do is go down every path and just find the sequence that produces the highest probability. While that'd be awesome, even with this small example of 29 characters you would need to go over ~$29^{13}$ different examples. Because of this we need a better way to find a most probable output. Next let's look at a beam decoder. The beam decoder takes a beam of some size, k,  and tracks the most probable characters of that fixed width beam. Then at each step it takes each of the k candidate sequences and combines the next k most likely and finally pruned to the top k new sequence candidates. Below is what that looks like."
   ]
  },
  {
   "cell_type": "code",
   "execution_count": 114,
   "metadata": {},
   "outputs": [
    {
     "data": {
      "text/plain": [
       "(['alex', 'marge', 'jacque', 'alexa', 'jacqu'],\n",
       " [0.0003029634823899965,\n",
       "  0.00018451205072100678,\n",
       "  0.0001707193587972278,\n",
       "  0.00016854112962335765,\n",
       "  1.8486967055518538e-05])"
      ]
     },
     "execution_count": 114,
     "metadata": {},
     "output_type": "execute_result"
    }
   ],
   "source": [
    "\n",
    "def beam_decoder(encoder: nn.Module, max_len: int, partial_name='', k=5):\n",
    "    curr_len = len(partial_name)\n",
    "    candidates = [(partial_name, 0, False)] # (seq, prob, done)\n",
    "    \n",
    "    # We automatically inject <sos> token so in this case we go max_len - 1\n",
    "    for _ in range(max_len - curr_len - 1):\n",
    "        potential_candidates = []\n",
    "\n",
    "        for seq, prob, is_done in candidates:\n",
    "            # Don't do anything if the candidate has hit <eos>\n",
    "            if is_done:\n",
    "                potential_candidates.append((seq, prob, is_done))\n",
    "                continue\n",
    "\n",
    "            next_toks, next_probs = predict_next_letter(seq, encoder, n=k)\n",
    "            for next_tok, next_tok_prob in zip(next_toks, next_probs):\n",
    "                newly_done = next_tok == '<eos>'\n",
    "                log_prob = math.log(next_tok_prob)\n",
    "                new_prob = prob + log_prob\n",
    "                new_seq = seq\n",
    "                if not newly_done:\n",
    "                    new_seq += next_tok\n",
    "                potential_candidates.append((new_seq, new_prob, newly_done))\n",
    "        # Sort and grab the k most probable\n",
    "        # How you sort is your choice. I'm choosing to initially sort by ones that are done, followed by highest probability\n",
    "        # and finally followed by selecting shorter names\n",
    "        candidates = sorted(potential_candidates, key=lambda x: (x[2], x[1], -len(x[0])), reverse=True)[:k]\n",
    "        # break\n",
    "\n",
    "    # Take all candidates and return the candidate with the exp of the prob\n",
    "    seqs = [candidate[0] for candidate in candidates]\n",
    "    probs = [math.exp(candidate[1]) for candidate in candidates]\n",
    "    return seqs, probs\n",
    "\n",
    "beam_decoder(lstm_lit_model.encoder, max_len, k=5)"
   ]
  },
  {
   "cell_type": "markdown",
   "metadata": {},
   "source": [
    "In this case you can see that `alex` is actually more porbable than `alexandre` but because the greedy decoder saw `a` as a more likely candidate than `<eos>` it kept decoding. Another thing to notice here is that \"jacqu\" is not even in the dataset. The model learned a probability distribution and was able to determine that it could be a name. The fun thing is you can also precondition on certain characters/partial names like so:"
   ]
  },
  {
   "cell_type": "code",
   "execution_count": 118,
   "metadata": {},
   "outputs": [
    {
     "data": {
      "text/plain": [
       "['brad', 'britt', 'brian', 'brand', 'bria']"
      ]
     },
     "execution_count": 118,
     "metadata": {},
     "output_type": "execute_result"
    }
   ],
   "source": [
    "beam_decoder(lstm_lit_model.encoder, max_len, k=5, partial_name='br')[0]"
   ]
  },
  {
   "cell_type": "markdown",
   "metadata": {},
   "source": [
    "Finally let's look at one more decoding scheme called nucleus decoding. With greedy decoding you take just the next most probable token. With beam search you take the k next probable and prune. With nucleus decoding the idea is that you take N tokens at each step until you hit some threshold percentage. The idea here is you will most likely have a long tailed distribution where a majority of the distribution is formed around a few tokens. Let's look at this in a concrete example. Consider the next letter to appear after a name starting with the letter 'a'. Take the next tokens and sort them by their probability and sample from it. Below is a quick example."
   ]
  },
  {
   "cell_type": "code",
   "execution_count": 150,
   "metadata": {},
   "outputs": [
    {
     "data": {
      "image/png": "[encoded data removed]",
      "text/plain": [
       "<Figure size 600x600 with 1 Axes>"
      ]
     },
     "metadata": {},
     "output_type": "display_data"
    },
    {
     "name": "stdout",
     "output_type": "stream",
     "text": [
      "0.9132244\n",
      "tokens needed ['l', 'n', 'r', 'd', 'u', 'm', 'b', 's', 'v']\n"
     ]
    }
   ],
   "source": [
    "import numpy as np\n",
    "import matplotlib.pyplot as plt\n",
    "%matplotlib inline\n",
    "\n",
    "toks, probs = predict_next_letter('a', lstm_lit_model.encoder, n=n_chars)\n",
    "nucleus = 0.9\n",
    "curr = 0\n",
    "for i, p in enumerate(probs):\n",
    "    curr += p\n",
    "    if curr > nucleus:\n",
    "        break\n",
    "\n",
    "fig, ax = plt.subplots(1, 1, figsize=(6,6))\n",
    "ax.plot(probs)\n",
    "plt.title(f'Most probable from \"a\" with nucleus={nucleus}')\n",
    "plt.xticks(list(range(len(probs))), toks, rotation=70)\n",
    "plt.axvline(x=i + 1, color='r')\n",
    "plt.show()\n",
    "\n",
    "print(np.sum(probs[:i + 1]))\n",
    "print('tokens needed', toks[:i + 1])\n"
   ]
  },
  {
   "cell_type": "markdown",
   "metadata": {},
   "source": [
    "In this case I stop taking tokens after reaching a 90% nucleus. This shows that we have a long tail and that we only need to consider 9 tokens to reach 90% of characters that should occur after the letter \"a\". Rather than keeping all of the characters, we simply sample from the characters within the nucleus. Below is what this looks like."
   ]
  },
  {
   "cell_type": "code",
   "execution_count": 179,
   "metadata": {},
   "outputs": [
    {
     "data": {
      "text/plain": [
       "('timmie', 0.00012636627036762568)"
      ]
     },
     "execution_count": 179,
     "metadata": {},
     "output_type": "execute_result"
    }
   ],
   "source": [
    "def nucleus_decoder(encoder: nn.Module, max_len: int, partial_name='', nucleus=0.9):\n",
    "    partial_seq = partial_name\n",
    "    ret_prob = 0\n",
    "    while True:\n",
    "        toks, probs = predict_next_letter(partial_seq, encoder, n=n_chars)\n",
    "        curr = 0\n",
    "        for i, p in enumerate(probs):\n",
    "            curr += p\n",
    "            if curr > nucleus:\n",
    "                break\n",
    "        candidates = toks[:i + 1]\n",
    "        candidate_probs = probs[:i + 1]\n",
    "        total_prob = sum(candidate_probs)\n",
    "        # Re-distribute the probability\n",
    "        new_probs = candidate_probs / total_prob\n",
    "\n",
    "        next_char = np.random.choice(candidates, p=new_probs)\n",
    "        idx = candidates.index(next_char)\n",
    "        prob = candidate_probs[idx]\n",
    "        ret_prob += math.log(prob)\n",
    "        if next_char != '<eos>':\n",
    "            partial_seq += next_char\n",
    "\n",
    "        if next_char == '<eos>' or len(partial_seq) == (max_len - 1):\n",
    "            break\n",
    "    \n",
    "    return partial_seq, math.exp(ret_prob)\n",
    "\n",
    "nucleus_decoder(lstm_lit_model.encoder, max_len, nucleus=.8)"
   ]
  },
  {
   "cell_type": "markdown",
   "metadata": {},
   "source": [
    "You can adjust the nucleus to allow for more diverse possibilities. For instance, a nucleus of 0 will be the same as the greedy decoder, which a nucleus of 1 will sample across all options. Of course it's a sample, so you'll still end up with more likely characters but it can help introduce some noise for varied output."
   ]
  }
 ],
 "metadata": {
  "kernelspec": {
   "display_name": "Python 3.9.13 ('py39')",
   "language": "python",
   "name": "python3"
  },
  "language_info": {
   "codemirror_mode": {
    "name": "ipython",
    "version": 3
   },
   "file_extension": ".py",
   "mimetype": "text/x-python",
   "name": "python",
   "nbconvert_exporter": "python",
   "pygments_lexer": "ipython3",
   "version": "3.9.13"
  },
  "orig_nbformat": 4,
  "vscode": {
   "interpreter": {
    "hash": "a65da5cbd383c2a22be39562d174f1996838645f0f2da213f12068eea680f03e"
   }
  }
 },
 "nbformat": 4,
 "nbformat_minor": 2
}
