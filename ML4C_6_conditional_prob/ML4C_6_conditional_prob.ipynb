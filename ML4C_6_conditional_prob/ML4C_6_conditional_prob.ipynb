{
  "cells": [
    {
      "cell_type": "code",
      "execution_count": null,
      "metadata": {
        "id": "PxOtimo1KLT7"
      },
      "outputs": [],
      "source": [
        "from sklearn.datasets import fetch_openml\n",
        "import pandas as pd\n",
        "import os\n",
        "\n",
        "data =  fetch_openml(data_id=40945, as_frame=True)"
      ]
    },
    {
      "cell_type": "code",
      "execution_count": null,
      "metadata": {
        "id": "V7MBjEayKM-R"
      },
      "outputs": [],
      "source": [
        "X, y = data.data, data.target\n",
        "survived2int = {'1': 1, '0': 0}\n",
        "y = y.apply(lambda x: survived2int[x])\n",
        "df = pd.concat((X, y), axis=1)\n",
        "df.head()"
      ]
    },
    {
      "cell_type": "code",
      "execution_count": null,
      "metadata": {
        "id": "OvwEE3glKZgY"
      },
      "outputs": [],
      "source": [
        "# P(A and B) / P(B)\n",
        "# P(pclass=1 and survived) / P(survived)\n",
        "p_survived = len(df[df['survived'] == 1]) / len(df)\n",
        "count_ab = len(df[(df['pclass'] == 1) & (df['survived'] == 1)])\n",
        "p_ab = count_ab / len(df)\n",
        "cond = p_ab / p_survived\n",
        "print(f'P(class 1 | survived) = {cond}')"
      ]
    },
    {
      "cell_type": "code",
      "execution_count": null,
      "metadata": {
        "id": "kD8PjuiiKwa3"
      },
      "outputs": [],
      "source": [
        "# Look at it from the other side P(survived | class 1)\n",
        "p_class1 = len(df[df['pclass'] == 1]) / len(df)\n",
        "cond = p_ab / p_class1\n",
        "print(f'P(survived | class 1) = {cond}')"
      ]
    },
    {
      "cell_type": "code",
      "execution_count": null,
      "metadata": {
        "id": "NBd92K0EACdr"
      },
      "outputs": [],
      "source": [
        "# Look at it from the other side P(survived | class 3)\n",
        "p_class3 = len(df[df['pclass'] == 3]) / len(df)\n",
        "count_ab = len(df[(df['pclass'] == 3) & (df['survived'] == 1)])\n",
        "p_ab = count_ab / len(df)\n",
        "cond = p_ab / p_class3\n",
        "print(f'P(survived | class 3) = {cond}')"
      ]
    },
    {
      "cell_type": "code",
      "execution_count": null,
      "metadata": {
        "id": "v18j36aXN7iV"
      },
      "outputs": [],
      "source": [
        "# P(survived | woman)\n",
        "p_woman = len(df[df['sex'] == 'female']) / len(df)\n",
        "p_ab = len(df[(df['sex'] == 'female') & (df['survived'] == 1)]) / len(df)\n",
        "cond = p_ab / p_woman\n",
        "print(f'P(survived | woman) = {cond}')"
      ]
    },
    {
      "cell_type": "code",
      "execution_count": null,
      "metadata": {
        "id": "qEhNXVwGO38E"
      },
      "outputs": [],
      "source": [
        "# P(survived | man)\n",
        "p_man = len(df[df['sex'] == 'male']) / len(df)\n",
        "p_ab = len(df[(df['sex'] == 'male') & (df['survived'] == 1)]) / len(df)\n",
        "cond_alive_man = p_ab / p_man\n",
        "print(f'P(survived | man) = {cond_alive_man}')"
      ]
    },
    {
      "cell_type": "markdown",
      "metadata": {
        "id": "k9jwm5QaRjU0"
      },
      "source": [
        "Probabilities of all outcomes within B will sum to 1. For instance, $P(X | man)$ will mean that all outcomes given that they're a man added together will sum to 1."
      ]
    },
    {
      "cell_type": "code",
      "execution_count": null,
      "metadata": {
        "id": "VTLI_4lHQa1C"
      },
      "outputs": [],
      "source": [
        "# P(died | man)\n",
        "p_ab = len(df[(df['sex'] == 'male') & (df['survived'] == 0)]) / len(df)\n",
        "cond_dead_man = p_ab / p_man\n",
        "print(f'P(died | man) = {cond_dead_man}')\n",
        "print(f'Total prob of something happening given you are a man: {cond_dead_man + cond_alive_man}')"
      ]
    },
    {
      "cell_type": "markdown",
      "metadata": {
        "id": "mQxzE2diSrgG"
      },
      "source": [
        "Knowing that also allows you to directly compute the remaining probability. $P(dead|man) = 1 - P(survived|man)$"
      ]
    },
    {
      "cell_type": "code",
      "execution_count": null,
      "metadata": {
        "id": "GA0nvr-OSIC7"
      },
      "outputs": [],
      "source": [
        "1 - cond_alive_man"
      ]
    },
    {
      "cell_type": "markdown",
      "metadata": {
        "id": "84F-PLlfyPFR"
      },
      "source": [
        "Conditional probability can also be conditioned on multiple things. For instance, you might want to know what is the probability someone survived given they're a woman and first class. For this you end up getting $P(A|B,C)=\\frac{P(A\\cap B|C)}{P(B|C)}=\\frac{P(A\\cap B\\cap C)}{P(C)}\\cdot \\frac{P(C)}{P(B\\cap C)}=\\frac{P(A\\cap B\\cap C)}{P(B\\cap C)}$"
      ]
    },
    {
      "cell_type": "code",
      "execution_count": null,
      "metadata": {
        "id": "g2ATw9fvyHdK"
      },
      "outputs": [],
      "source": [
        "# P(survived | woman, first class)\n",
        "count_woman_alive_firstclass = len(df[(df['pclass'] == 1) &\\\n",
        "                                  (df['sex'] == 'female') &\\\n",
        "                                  (df['survived'] == 1)])\n",
        "p_abc = count_woman_alive_firstclass / len(df)\n",
        "count_woman_firstclass = len(df[(df['pclass'] == 1) &\\\n",
        "                            (df['sex'] == 'female')])\n",
        "p_bc = count_woman_firstclass / len(df)\n",
        "cond = p_abc / p_bc\n",
        "print(f'P(survived | woman, first class) = {cond}')"
      ]
    },
    {
      "cell_type": "markdown",
      "metadata": {
        "id": "T5MGUy3h47j8"
      },
      "source": [
        "Can directly compare probability of outcome with different conditions. You might wonder how class effects the distribution. We can define a function to hold variables static as we change one and compare the results."
      ]
    },
    {
      "cell_type": "code",
      "execution_count": null,
      "metadata": {
        "id": "e5tckADZ45wH"
      },
      "outputs": [],
      "source": [
        "def get_cond_probs(cond_a, cond_b, cond_cs, df):\n",
        "  probs = []\n",
        "  for cond_c in cond_cs:\n",
        "    p_abc = len(df[(cond_a) & (cond_b) & (cond_c)]) / len(df)\n",
        "    p_bc = len(df[(cond_b) & (cond_c)]) / len(df)\n",
        "    cond_prob = p_abc / p_bc\n",
        "    probs.append(cond_prob)\n",
        "  return probs"
      ]
    },
    {
      "cell_type": "code",
      "execution_count": null,
      "metadata": {
        "id": "LSBn7MrB0uQv"
      },
      "outputs": [],
      "source": [
        "cond_a = df['survived'] == 1\n",
        "cond_b = df['sex'] == 'female'\n",
        "cond_cs = [\n",
        "    df['pclass'] == 1,\n",
        "    df['pclass'] == 2,\n",
        "    df['pclass'] == 3,\n",
        "]\n",
        "\n",
        "probs = get_cond_probs(cond_a, cond_b, cond_cs, df)\n",
        "probs"
      ]
    },
    {
      "cell_type": "markdown",
      "metadata": {
        "id": "ZUG_IQNf7sB-"
      },
      "source": [
        "Similarly we can hold class steady at first class and fluctuate between male and female."
      ]
    },
    {
      "cell_type": "code",
      "execution_count": null,
      "metadata": {
        "id": "TL81sW9t63Q3"
      },
      "outputs": [],
      "source": [
        "cond_a = df['survived'] == 1\n",
        "cond_b = df['pclass'] == 1\n",
        "cond_cs = [\n",
        "    df['sex'] == 'female',\n",
        "    df['sex'] == 'male'\n",
        "]\n",
        "get_cond_probs(cond_a, cond_b, cond_cs, df)"
      ]
    },
    {
      "cell_type": "markdown",
      "metadata": {
        "id": "s7sWy4rI8IYf"
      },
      "source": [
        "And now you can iterate over b conditionals to gain even more insight."
      ]
    },
    {
      "cell_type": "code",
      "execution_count": null,
      "metadata": {
        "id": "PkrKmWiF7_v7"
      },
      "outputs": [],
      "source": [
        "for pclass in range(1,3+1):\n",
        "  cond_b = df['pclass'] == pclass\n",
        "  probs = get_cond_probs(cond_a, cond_b, cond_cs, df)\n",
        "  sex = ['female', 'male']\n",
        "  for i,s in enumerate(sex):\n",
        "    print(f'P(survived|pclass={pclass},sex={s}) = {probs[i]}')"
      ]
    },
    {
      "cell_type": "markdown",
      "metadata": {
        "id": "wFDTWCoQ9oez"
      },
      "source": [
        "I like to think of conditional probability as a way to index into data\n",
        "\n",
        "![conditional prob](https://www.mathbootcamps.com/wp-content/uploads/two-way-table-conditional-probability-example2.png)"
      ]
    },
    {
      "cell_type": "markdown",
      "metadata": {
        "id": "ZASYaqlmMhj3"
      },
      "source": [
        "In the above example you can directly index into the \"given\" section and compute 8/45. You can also use full probability to do the same $P(>=4|FT) = \\frac{P(>=4\\cap FT)}{P(FT)}=\\frac{\\frac{8}{58}}{\\frac{45}{58}}=\\frac{8}{45}$"
      ]
    }
  ],
  "metadata": {
    "colab": {
      "provenance": []
    },
    "kernelspec": {
      "display_name": "Python 3.8.10 64-bit",
      "language": "python",
      "name": "python3"
    },
    "language_info": {
      "name": "python",
      "version": "3.8.10"
    },
    "vscode": {
      "interpreter": {
        "hash": "9650cb4e16cdd4a8e8e2d128bf38d875813998db22a3c986335f89e0cb4d7bb2"
      }
    }
  },
  "nbformat": 4,
  "nbformat_minor": 0
}
